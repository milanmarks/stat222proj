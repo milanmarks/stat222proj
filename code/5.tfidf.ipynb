{
 "cells": [
  {
   "cell_type": "code",
   "execution_count": 41,
   "id": "initial_id",
   "metadata": {
    "ExecuteTime": {
     "end_time": "2024-04-12T22:30:58.159029Z",
     "start_time": "2024-04-12T22:30:57.403306Z"
    },
    "collapsed": true
   },
   "outputs": [],
   "source": [
    "import pandas as pd\n",
    "\n",
    "from sklearn.feature_extraction.text import TfidfVectorizer\n",
    "from sklearn.svm import SVC\n",
    "from sklearn.metrics import average_precision_score, classification_report\n",
    "from sklearn.linear_model import LogisticRegression\n",
    "from sklearn.tree import DecisionTreeClassifier\n",
    "from sklearn.ensemble import RandomForestClassifier, GradientBoostingClassifier\n",
    "from sklearn.preprocessing import StandardScaler\n",
    "\n",
    "from scipy import sparse\n",
    "\n",
    "import numpy as np\n",
    "from tqdm import tqdm\n",
    "from time import time\n",
    "\n",
    "from imblearn.ensemble import EasyEnsembleClassifier\n",
    "\n",
    "import re \n",
    "from nltk.corpus import stopwords\n",
    "stop_words = set(stopwords.words('english'))\n",
    "from nltk.stem.snowball import SnowballStemmer\n",
    "st = SnowballStemmer('english')"
   ]
  },
  {
   "cell_type": "code",
   "execution_count": 3,
   "id": "bc2ff86a",
   "metadata": {},
   "outputs": [],
   "source": [
    "def benchmark(clf, X_train, y_train, X_test, y_test):\n",
    "    print(\"_\" * 80)\n",
    "    print(\"Training: \")\n",
    "    print(clf)\n",
    "    t0 = time()\n",
    "    clf.fit(X_train, y_train)\n",
    "    train_time = time() - t0\n",
    "    print(f\"train time: {train_time:.3}s\")\n",
    "\n",
    "    t0 = time()\n",
    "    pred = clf.predict(X_test)\n",
    "    test_time = time() - t0\n",
    "    print(f\"test time:  {test_time:.3}s\")\n",
    "\n",
    "    score = average_precision_score(y_test, pred)\n",
    "    print(f\"PR AUC:   {score:.3}\")\n",
    "\n",
    "    print(classification_report(y_test, pred))"
   ]
  },
  {
   "cell_type": "markdown",
   "id": "ba29c27d",
   "metadata": {},
   "source": [
    "# Data Preparation"
   ]
  },
  {
   "cell_type": "code",
   "execution_count": 4,
   "id": "29ff60905c325467",
   "metadata": {
    "ExecuteTime": {
     "end_time": "2024-04-12T22:42:06.019867Z",
     "start_time": "2024-04-12T22:41:51.258761Z"
    }
   },
   "outputs": [],
   "source": [
    "data = pd.read_csv('../data/train_test_set.csv')\n",
    "data = pd.get_dummies(data, columns = ['main_industry', 'year'])"
   ]
  },
  {
   "cell_type": "code",
   "execution_count": 5,
   "id": "309c964e6565d0dd",
   "metadata": {},
   "outputs": [],
   "source": [
    "data['items'] = data['item_1A'] + \" \" + data['item_2'] + \" \" + data['item_7']"
   ]
  },
  {
   "cell_type": "code",
   "execution_count": 6,
   "id": "a5f4bf43",
   "metadata": {},
   "outputs": [],
   "source": [
    "X_train = data[data['train'] == 1].drop(columns=['cik', 'sic', 'sic_description', 'filedate', 'accession_num',\n",
    "       'primary_doc', 'filelink', 'bank_status', 'train'])\n",
    "X_test = data[data['train'] == 0].drop(columns=['cik', 'sic', 'sic_description', 'filedate', 'accession_num',\n",
    "       'primary_doc', 'filelink', 'bank_status', 'train'])\n",
    "y_train = data[data['train']==1]['bank_status']\n",
    "y_test = data[data['train']==0]['bank_status']"
   ]
  },
  {
   "cell_type": "code",
   "execution_count": 7,
   "id": "c339e15fbbe0bae9",
   "metadata": {
    "ExecuteTime": {
     "end_time": "2024-04-11T01:26:41.380378Z",
     "start_time": "2024-04-11T01:26:09.483471Z"
    }
   },
   "outputs": [
    {
     "name": "stderr",
     "output_type": "stream",
     "text": [
      "100%|██████████| 7065/7065 [00:30<00:00, 229.58it/s]\n"
     ]
    }
   ],
   "source": [
    "X_text_train = []\n",
    "for item in tqdm(X_train['items']):\n",
    "    word = re.sub('\\s+', ' ', item)\n",
    "    word = word.lower()\n",
    "    word = word.replace(\"\\n\", \"\").replace(\"item 1a.\", \"\").replace(\"item 2.\", \"\").replace(\"item 7.\", \"\")\n",
    "    X_text_train.append(word)"
   ]
  },
  {
   "cell_type": "code",
   "execution_count": 8,
   "id": "81e01a37",
   "metadata": {},
   "outputs": [
    {
     "name": "stderr",
     "output_type": "stream",
     "text": [
      "100%|██████████| 2356/2356 [00:09<00:00, 240.62it/s]\n"
     ]
    }
   ],
   "source": [
    "X_text_test = []\n",
    "for item in tqdm(X_test['items']):\n",
    "    word = re.sub('\\s+', ' ', item)\n",
    "    word = word.lower()\n",
    "    word = word.replace(\"\\n\", \"\").replace(\"item 1a.\", \"\").replace(\"item 2.\", \"\").replace(\"item 7.\", \"\")\n",
    "    X_text_test.append(word)"
   ]
  },
  {
   "cell_type": "markdown",
   "id": "2a9fc646",
   "metadata": {},
   "source": [
    "# TFIDF vectorizer and text classification"
   ]
  },
  {
   "cell_type": "code",
   "execution_count": 9,
   "id": "52a8046658b6c3d2",
   "metadata": {
    "ExecuteTime": {
     "end_time": "2024-04-11T01:36:02.787258Z",
     "start_time": "2024-04-11T01:36:02.773704Z"
    }
   },
   "outputs": [],
   "source": [
    "vectorizer = TfidfVectorizer(\n",
    "    sublinear_tf=True, max_df=0.5, min_df=5, stop_words=\"english\"\n",
    ")"
   ]
  },
  {
   "cell_type": "code",
   "execution_count": 10,
   "id": "28de8f743efbcc2f",
   "metadata": {
    "ExecuteTime": {
     "end_time": "2024-04-11T01:39:26.210263Z",
     "start_time": "2024-04-11T01:38:36.792934Z"
    }
   },
   "outputs": [],
   "source": [
    "X_text_train = vectorizer.fit_transform(X_text_train)\n",
    "X_text_test = vectorizer.transform(X_text_test)"
   ]
  },
  {
   "cell_type": "code",
   "execution_count": 45,
   "id": "0437433d",
   "metadata": {},
   "outputs": [
    {
     "name": "stdout",
     "output_type": "stream",
     "text": [
      "================================================================================\n",
      "Logistic Regression\n",
      "________________________________________________________________________________\n",
      "Training: \n",
      "LogisticRegression(class_weight='balanced', max_iter=1000)\n",
      "train time: 0.887s\n",
      "test time:  0.00293s\n",
      "PR AUC:   0.144\n",
      "              precision    recall  f1-score   support\n",
      "\n",
      "           0       0.99      0.99      0.99      2330\n",
      "           1       0.30      0.46      0.36        26\n",
      "\n",
      "    accuracy                           0.98      2356\n",
      "   macro avg       0.65      0.72      0.68      2356\n",
      "weighted avg       0.99      0.98      0.98      2356\n",
      "\n",
      "================================================================================\n",
      "SVC\n",
      "________________________________________________________________________________\n",
      "Training: \n",
      "SVC(gamma='auto', max_iter=1000, random_state=42)\n",
      "train time: 3.28s\n",
      "test time:  1.22s\n",
      "PR AUC:   0.011\n",
      "              precision    recall  f1-score   support\n",
      "\n",
      "           0       0.99      1.00      0.99      2330\n",
      "           1       0.00      0.00      0.00        26\n",
      "\n",
      "    accuracy                           0.99      2356\n",
      "   macro avg       0.49      0.50      0.50      2356\n",
      "weighted avg       0.98      0.99      0.98      2356\n",
      "\n",
      "================================================================================\n",
      "Random Forrest\n",
      "________________________________________________________________________________\n",
      "Training: \n",
      "DecisionTreeClassifier(class_weight='balanced', random_state=42)\n"
     ]
    },
    {
     "name": "stderr",
     "output_type": "stream",
     "text": [
      "/Users/haodong/opt/anaconda3/lib/python3.9/site-packages/sklearn/metrics/_classification.py:1469: UndefinedMetricWarning: Precision and F-score are ill-defined and being set to 0.0 in labels with no predicted samples. Use `zero_division` parameter to control this behavior.\n",
      "  _warn_prf(average, modifier, msg_start, len(result))\n",
      "/Users/haodong/opt/anaconda3/lib/python3.9/site-packages/sklearn/metrics/_classification.py:1469: UndefinedMetricWarning: Precision and F-score are ill-defined and being set to 0.0 in labels with no predicted samples. Use `zero_division` parameter to control this behavior.\n",
      "  _warn_prf(average, modifier, msg_start, len(result))\n",
      "/Users/haodong/opt/anaconda3/lib/python3.9/site-packages/sklearn/metrics/_classification.py:1469: UndefinedMetricWarning: Precision and F-score are ill-defined and being set to 0.0 in labels with no predicted samples. Use `zero_division` parameter to control this behavior.\n",
      "  _warn_prf(average, modifier, msg_start, len(result))\n"
     ]
    },
    {
     "name": "stdout",
     "output_type": "stream",
     "text": [
      "train time: 3.57s\n",
      "test time:  0.00744s\n",
      "PR AUC:   0.0455\n",
      "              precision    recall  f1-score   support\n",
      "\n",
      "           0       0.99      0.99      0.99      2330\n",
      "           1       0.24      0.15      0.19        26\n",
      "\n",
      "    accuracy                           0.99      2356\n",
      "   macro avg       0.61      0.57      0.59      2356\n",
      "weighted avg       0.98      0.99      0.98      2356\n",
      "\n",
      "================================================================================\n",
      "Easy Ensemble\n",
      "________________________________________________________________________________\n",
      "Training: \n",
      "EasyEnsembleClassifier(random_state=42)\n",
      "train time: 5.27s\n",
      "test time:  3.21s\n",
      "PR AUC:   0.049\n",
      "              precision    recall  f1-score   support\n",
      "\n",
      "           0       1.00      0.85      0.92      2330\n",
      "           1       0.06      0.81      0.11        26\n",
      "\n",
      "    accuracy                           0.85      2356\n",
      "   macro avg       0.53      0.83      0.51      2356\n",
      "weighted avg       0.99      0.85      0.91      2356\n",
      "\n"
     ]
    }
   ],
   "source": [
    "results = []\n",
    "for clf, name in (\n",
    "    (LogisticRegression(class_weight=\"balanced\", max_iter=1000), \"Logistic Regression\"),\n",
    "    (SVC(gamma=\"auto\", kernel = \"rbf\", max_iter=1000, random_state=42), \"SVC\"),\n",
    "    (DecisionTreeClassifier(random_state=42, class_weight=\"balanced\"), \"Random Forrest\"),\n",
    "    (EasyEnsembleClassifier(random_state=42), \"Easy Ensemble\")\n",
    "):\n",
    "    print(\"=\" * 80)\n",
    "    print(name)\n",
    "    results.append(benchmark(clf, X_text_train, y_train, X_text_test, y_test))"
   ]
  },
  {
   "cell_type": "markdown",
   "id": "60988356",
   "metadata": {},
   "source": [
    "# Attemp of combining text and financial features "
   ]
  },
  {
   "cell_type": "code",
   "execution_count": 23,
   "id": "528ab6ba",
   "metadata": {},
   "outputs": [],
   "source": [
    "scaler = StandardScaler().fit(X_train.iloc[:, 0:23])\n",
    "scaled_terms_train = scaler.transform(X_train.iloc[:, 0:23])"
   ]
  },
  {
   "cell_type": "code",
   "execution_count": 25,
   "id": "30026085",
   "metadata": {},
   "outputs": [
    {
     "data": {
      "text/plain": [
       "(7065, 35622)"
      ]
     },
     "execution_count": 25,
     "metadata": {},
     "output_type": "execute_result"
    }
   ],
   "source": [
    "X_text_train.shape"
   ]
  },
  {
   "cell_type": "code",
   "execution_count": 26,
   "id": "6ad722ea",
   "metadata": {},
   "outputs": [
    {
     "data": {
      "text/plain": [
       "(7065, 23)"
      ]
     },
     "execution_count": 26,
     "metadata": {},
     "output_type": "execute_result"
    }
   ],
   "source": [
    "scaled_terms_train.shape"
   ]
  },
  {
   "cell_type": "code",
   "execution_count": 33,
   "id": "b3a7cd5e",
   "metadata": {},
   "outputs": [],
   "source": [
    "# Standardization\n",
    "scaler = StandardScaler().fit(X_train.iloc[:, 0:23])\n",
    "scaled_terms_train = scaler.transform(X_train.iloc[:, 0:23])\n",
    "X_train_scaled = sparse.hstack([X_text_train, scaled_terms_train, X_train.iloc[:,26:50].values])\n",
    "scaled_terms_test = scaler.transform(X_test.iloc[:, 0:23])\n",
    "X_test_scaled = sparse.hstack([X_text_test, scaled_terms_test, X_test.iloc[:,26:50].values])"
   ]
  },
  {
   "cell_type": "code",
   "execution_count": 46,
   "id": "c5962a46",
   "metadata": {},
   "outputs": [
    {
     "name": "stdout",
     "output_type": "stream",
     "text": [
      "================================================================================\n",
      "Logistic Regression\n",
      "________________________________________________________________________________\n",
      "Training: \n",
      "LogisticRegression(C=5, class_weight='balanced', max_iter=1000)\n",
      "train time: 3.64s\n",
      "test time:  0.0775s\n",
      "PR AUC:   0.149\n",
      "              precision    recall  f1-score   support\n",
      "\n",
      "           0       0.99      0.99      0.99      2330\n",
      "           1       0.41      0.35      0.38        26\n",
      "\n",
      "    accuracy                           0.99      2356\n",
      "   macro avg       0.70      0.67      0.68      2356\n",
      "weighted avg       0.99      0.99      0.99      2356\n",
      "\n",
      "================================================================================\n",
      "Linear SVC\n",
      "________________________________________________________________________________\n",
      "Training: \n",
      "SVC(C=0.1, class_weight='balanced', gamma='auto', max_iter=1000)\n"
     ]
    },
    {
     "name": "stderr",
     "output_type": "stream",
     "text": [
      "/Users/haodong/opt/anaconda3/lib/python3.9/site-packages/sklearn/svm/_base.py:297: ConvergenceWarning: Solver terminated early (max_iter=1000).  Consider pre-processing your data with StandardScaler or MinMaxScaler.\n",
      "  warnings.warn(\n"
     ]
    },
    {
     "name": "stdout",
     "output_type": "stream",
     "text": [
      "train time: 38.3s\n",
      "test time:  14.1s\n",
      "PR AUC:   0.011\n",
      "              precision    recall  f1-score   support\n",
      "\n",
      "           0       0.00      0.00      0.00      2330\n",
      "           1       0.01      1.00      0.02        26\n",
      "\n",
      "    accuracy                           0.01      2356\n",
      "   macro avg       0.01      0.50      0.01      2356\n",
      "weighted avg       0.00      0.01      0.00      2356\n",
      "\n",
      "================================================================================\n",
      "Decision Tree\n",
      "________________________________________________________________________________\n",
      "Training: \n",
      "DecisionTreeClassifier(class_weight='balanced', random_state=42)\n"
     ]
    },
    {
     "name": "stderr",
     "output_type": "stream",
     "text": [
      "/Users/haodong/opt/anaconda3/lib/python3.9/site-packages/sklearn/metrics/_classification.py:1469: UndefinedMetricWarning: Precision and F-score are ill-defined and being set to 0.0 in labels with no predicted samples. Use `zero_division` parameter to control this behavior.\n",
      "  _warn_prf(average, modifier, msg_start, len(result))\n",
      "/Users/haodong/opt/anaconda3/lib/python3.9/site-packages/sklearn/metrics/_classification.py:1469: UndefinedMetricWarning: Precision and F-score are ill-defined and being set to 0.0 in labels with no predicted samples. Use `zero_division` parameter to control this behavior.\n",
      "  _warn_prf(average, modifier, msg_start, len(result))\n",
      "/Users/haodong/opt/anaconda3/lib/python3.9/site-packages/sklearn/metrics/_classification.py:1469: UndefinedMetricWarning: Precision and F-score are ill-defined and being set to 0.0 in labels with no predicted samples. Use `zero_division` parameter to control this behavior.\n",
      "  _warn_prf(average, modifier, msg_start, len(result))\n"
     ]
    },
    {
     "name": "stdout",
     "output_type": "stream",
     "text": [
      "train time: 2.58s\n",
      "test time:  0.0695s\n",
      "PR AUC:   0.147\n",
      "              precision    recall  f1-score   support\n",
      "\n",
      "           0       0.99      1.00      0.99      2330\n",
      "           1       0.60      0.23      0.33        26\n",
      "\n",
      "    accuracy                           0.99      2356\n",
      "   macro avg       0.80      0.61      0.66      2356\n",
      "weighted avg       0.99      0.99      0.99      2356\n",
      "\n",
      "================================================================================\n",
      "Easy Ensemble\n",
      "________________________________________________________________________________\n",
      "Training: \n",
      "EasyEnsembleClassifier(random_state=42)\n",
      "train time: 5.86s\n",
      "test time:  3.73s\n",
      "PR AUC:   0.0615\n",
      "              precision    recall  f1-score   support\n",
      "\n",
      "           0       1.00      0.86      0.93      2330\n",
      "           1       0.07      0.88      0.13        26\n",
      "\n",
      "    accuracy                           0.87      2356\n",
      "   macro avg       0.53      0.87      0.53      2356\n",
      "weighted avg       0.99      0.87      0.92      2356\n",
      "\n"
     ]
    }
   ],
   "source": [
    "results = []\n",
    "for clf, name in (\n",
    "    (LogisticRegression(C=5, class_weight=\"balanced\", max_iter=1000), \"Logistic Regression\"),\n",
    "    (SVC(C=0.1, gamma=\"auto\", kernel=\"rbf\", max_iter=1000), \"SVC\"),\n",
    "    (DecisionTreeClassifier(random_state=42, class_weight=\"balanced\"), \"Decision Tree\"),\n",
    "    (EasyEnsembleClassifier(random_state=42), \"Easy Ensemble\")\n",
    "):\n",
    "    print(\"=\" * 80)\n",
    "    print(name)\n",
    "    results.append(benchmark(clf, X_train_scaled, y_train, X_test_scaled, y_test))"
   ]
  }
 ],
 "metadata": {
  "kernelspec": {
   "display_name": "Python 3",
   "language": "python",
   "name": "python3"
  },
  "language_info": {
   "codemirror_mode": {
    "name": "ipython",
    "version": 3
   },
   "file_extension": ".py",
   "mimetype": "text/x-python",
   "name": "python",
   "nbconvert_exporter": "python",
   "pygments_lexer": "ipython3",
   "version": "3.9.18"
  }
 },
 "nbformat": 4,
 "nbformat_minor": 5
}
