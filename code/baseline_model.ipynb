{
 "cells": [
  {
   "cell_type": "markdown",
   "metadata": {},
   "source": [
    "# Baseline Models"
   ]
  },
  {
   "cell_type": "code",
   "execution_count": 129,
   "metadata": {},
   "outputs": [],
   "source": [
    "from sklearn.model_selection import train_test_split\n",
    "from sklearn.linear_model import LogisticRegression\n",
    "from sklearn.tree import DecisionTreeClassifier\n",
    "from sklearn.svm import SVC\n",
    "from sklearn import tree\n",
    "from sklearn.metrics import roc_auc_score\n",
    "from sklearn.metrics import classification_report\n",
    "from sklearn.preprocessing import StandardScaler\n",
    "from sklearn.model_selection import GridSearchCV\n",
    "from sklearn.metrics import average_precision_score, RocCurveDisplay, roc_curve\n",
    "from sklearn import metrics\n",
    "\n",
    "import numpy as np\n",
    "import pandas as pd\n",
    "import matplotlib.pyplot as plt\n",
    "\n",
    "from collections import Counter\n",
    "from imblearn.over_sampling import SMOTE\n",
    "from imblearn.under_sampling import RandomUnderSampler\n",
    "from imblearn.pipeline import Pipeline"
   ]
  },
  {
   "cell_type": "code",
   "execution_count": 130,
   "metadata": {},
   "outputs": [],
   "source": [
    "data = pd.read_csv('../data/data.csv')"
   ]
  },
  {
   "cell_type": "code",
   "execution_count": 131,
   "metadata": {},
   "outputs": [],
   "source": [
    "# Drop irrelevant columns\n",
    "y = data['bank_status']\n",
    "X = data.drop(columns = ['cik', 'sic', 'sic_description', 'filedate', 'accession_num',\n",
    "       'primary_doc', 'filelink', 'bank_status'])"
   ]
  },
  {
   "cell_type": "code",
   "execution_count": 132,
   "metadata": {},
   "outputs": [],
   "source": [
    "# Create dummy variables for industry and year\n",
    "X_with_dummies = pd.get_dummies(X, columns = ['main_industry', 'year'])"
   ]
  },
  {
   "cell_type": "code",
   "execution_count": 133,
   "metadata": {},
   "outputs": [],
   "source": [
    "# Split training and testing data\n",
    "X_train, X_test, y_train, y_test = train_test_split(X_with_dummies, y, test_size = 0.25, random_state = 42)"
   ]
  },
  {
   "cell_type": "code",
   "execution_count": 134,
   "metadata": {},
   "outputs": [],
   "source": [
    "# Standardization\n",
    "scaler = StandardScaler().fit(X_train.iloc[:, 0:23])\n",
    "scaled_terms_train = pd.DataFrame(scaler.transform(X_train.iloc[:, 0:23]), columns = X_train.columns[0:23])\n",
    "X_train_scaled = pd.concat([scaled_terms_train, X_train.iloc[:,23:].reset_index(drop = True)], axis = 1)\n",
    "scaled_terms_test = pd.DataFrame(scaler.transform(X_test.iloc[:, 0:23]), columns = X_test.columns[0:23])\n",
    "X_test_scaled = pd.concat([scaled_terms_test, X_test.iloc[:,23:].reset_index(drop = True)], axis = 1)"
   ]
  },
  {
   "cell_type": "code",
   "execution_count": 135,
   "metadata": {},
   "outputs": [],
   "source": [
    "def measure(clf):\n",
    "    y_pred_test = clf.predict(X_test_scaled)\n",
    "    y_pred_prob_test = clf.predict_proba(X_test_scaled)[:,1]\n",
    "    y_pred_train = clf.predict(X_train_scaled)\n",
    "    y_pred_prob_train = clf.predict_proba(X_train_scaled)[:,1]\n",
    "\n",
    "    print(classification_report(y_train, y_pred_train))\n",
    "    print(\"Train Auc_roc:\", roc_auc_score(y_train, y_pred_prob_train))\n",
    "    print(\"Train average precision:\", average_precision_score(y_train, y_pred_prob_train))\n",
    "\n",
    "    print(classification_report(y_test, y_pred_test))\n",
    "    print(\"Test auc_roc:\", roc_auc_score(y_test, y_pred_prob_test))\n",
    "    print(\"Test average precision:\", average_precision_score(y_test, y_pred_prob_test))"
   ]
  },
  {
   "cell_type": "markdown",
   "metadata": {},
   "source": [
    "## Logistic Regression"
   ]
  },
  {
   "cell_type": "code",
   "execution_count": 136,
   "metadata": {
    "scrolled": true
   },
   "outputs": [
    {
     "name": "stdout",
     "output_type": "stream",
     "text": [
      "              precision    recall  f1-score   support\n",
      "\n",
      "           0       1.00      0.84      0.91      9587\n",
      "           1       0.03      0.93      0.05        46\n",
      "\n",
      "    accuracy                           0.84      9633\n",
      "   macro avg       0.51      0.89      0.48      9633\n",
      "weighted avg       0.99      0.84      0.91      9633\n",
      "\n",
      "Train Auc_roc: 0.9256511308338737\n",
      "Train average precision: 0.042002700630339944\n",
      "              precision    recall  f1-score   support\n",
      "\n",
      "           0       1.00      0.83      0.91      3186\n",
      "           1       0.04      0.77      0.07        26\n",
      "\n",
      "    accuracy                           0.83      3212\n",
      "   macro avg       0.52      0.80      0.49      3212\n",
      "weighted avg       0.99      0.83      0.90      3212\n",
      "\n",
      "Test auc_roc: 0.9260888985465258\n",
      "Test average precision: 0.11535793169322835\n"
     ]
    }
   ],
   "source": [
    "lr = LogisticRegression(max_iter = 1000, fit_intercept = False, class_weight='balanced')\n",
    "lr.fit(X_train_scaled, y_train)\n",
    "measure(lr)"
   ]
  },
  {
   "cell_type": "code",
   "execution_count": 137,
   "metadata": {},
   "outputs": [
    {
     "name": "stdout",
     "output_type": "stream",
     "text": [
      "                                             Features  Coefficients\n",
      "13                                      current_ratio     -7.072905\n",
      "25   main_industry_Finance, Insurance and Real Estate     -4.999263\n",
      "24                         main_industry_Construction     -3.526908\n",
      "23    main_industry_Agriculture, Forestry and Fishing     -3.065323\n",
      "33                                          year_2011     -3.038593\n",
      "12                            CommonStockSharesIssued     -2.735804\n",
      "29                             main_industry_Services     -2.534938\n",
      "37                                          year_2015     -2.366306\n",
      "44                                          year_2022     -2.063071\n",
      "26                        main_industry_Manufacturing     -2.010231\n",
      "1                                       AssetsCurrent     -1.938121\n",
      "6          NetCashProvidedByUsedInOperatingActivities     -1.922352\n",
      "39                                          year_2017     -1.866938\n",
      "40                                          year_2018     -1.705008\n",
      "4                                  StockholdersEquity     -1.694059\n",
      "45                                          year_2023     -1.591057\n",
      "41                                          year_2019     -1.501228\n",
      "43                                          year_2021     -1.263540\n",
      "15                               debt_to_total_assets     -1.203084\n",
      "35                                          year_2013     -0.971707\n",
      "28                         main_industry_Retail Trade     -0.696066\n",
      "8          NetCashProvidedByUsedInInvestingActivities     -0.687592\n",
      "19                         current_assets_over_assets     -0.648534\n",
      "32                                          year_2010     -0.410310\n",
      "30  main_industry_Transportation, Communications, ...     -0.328742\n",
      "11                                   CommonStockValue     -0.317272\n",
      "2                                         Liabilities     -0.286158\n",
      "42                                          year_2020     -0.276100\n",
      "10                                OperatingIncomeLoss     -0.267621\n",
      "20                                   cash_over_assets     -0.218137\n",
      "7          NetCashProvidedByUsedInFinancingActivities     -0.158819\n",
      "17                                   return_on_equity     -0.061959\n",
      "36                                          year_2014     -0.008122\n",
      "14                                     debt_to_equity      0.015346\n",
      "38                                          year_2016      0.056331\n",
      "31                      main_industry_Wholesale Trade      0.063752\n",
      "34                                          year_2012      0.184308\n",
      "9                                       NetIncomeLoss      0.705310\n",
      "16                                   return_on_assets      1.058845\n",
      "5               CashAndCashEquivalentsAtCarryingValue      1.162513\n",
      "22                    cash_operation_over_liabilities      1.194765\n",
      "46                                          year_2024      1.236287\n",
      "3                                  LiabilitiesCurrent      1.239631\n",
      "0                                              Assets      1.390237\n",
      "27                               main_industry_Mining      1.512666\n",
      "21                         cash_operation_over_assets      3.041301\n",
      "18                                   ebit_over_assets      4.353302\n"
     ]
    }
   ],
   "source": [
    "# The coefficients for each feature\n",
    "df = pd.DataFrame({\n",
    "    'Features': X_train_scaled.columns,\n",
    "    'Coefficients': lr.coef_[0]\n",
    "}\n",
    ").sort_values(by = 'Coefficients')\n",
    "print(df)"
   ]
  },
  {
   "cell_type": "markdown",
   "metadata": {},
   "source": [
    "## Decision Tree"
   ]
  },
  {
   "cell_type": "code",
   "execution_count": 138,
   "metadata": {},
   "outputs": [
    {
     "name": "stdout",
     "output_type": "stream",
     "text": [
      "Best parameters: {'ccp_alpha': 0.001, 'max_depth': 25, 'max_features': 'sqrt', 'min_samples_leaf': 10}\n",
      "Best score: 0.08495030556368036\n"
     ]
    }
   ],
   "source": [
    "parameters = {\n",
    "    'max_depth': [10, 15, 20, 25, 30], \n",
    "    'min_samples_leaf': [5, 10, 20, 30], \n",
    "    'max_features': ['sqrt', 'log2'], \n",
    "    'ccp_alpha': [0.01, 0.001, 0.0001, 0.00001]\n",
    "}\n",
    "grid_search = GridSearchCV(\n",
    "            estimator = tree.DecisionTreeClassifier(class_weight = 'balanced', random_state = 42),\n",
    "            param_grid = parameters,\n",
    "            scoring = 'average_precision',\n",
    "            cv = 5)\n",
    "grid_search.fit(X_train_scaled, y_train)\n",
    "print(\"Best parameters:\", grid_search.best_params_)\n",
    "print(\"Best score:\", grid_search.best_score_)"
   ]
  },
  {
   "cell_type": "code",
   "execution_count": 139,
   "metadata": {},
   "outputs": [
    {
     "name": "stdout",
     "output_type": "stream",
     "text": [
      "              precision    recall  f1-score   support\n",
      "\n",
      "           0       1.00      0.98      0.99      9587\n",
      "           1       0.20      1.00      0.33        46\n",
      "\n",
      "    accuracy                           0.98      9633\n",
      "   macro avg       0.60      0.99      0.66      9633\n",
      "weighted avg       1.00      0.98      0.99      9633\n",
      "\n",
      "Train Auc_roc: 0.9922029832064254\n",
      "Train average precision: 0.26861488547273465\n",
      "              precision    recall  f1-score   support\n",
      "\n",
      "           0       0.99      0.98      0.99      3186\n",
      "           1       0.14      0.35      0.20        26\n",
      "\n",
      "    accuracy                           0.98      3212\n",
      "   macro avg       0.57      0.66      0.59      3212\n",
      "weighted avg       0.99      0.98      0.98      3212\n",
      "\n",
      "Test auc_roc: 0.6647834274952922\n",
      "Test average precision: 0.07128455538693462\n"
     ]
    }
   ],
   "source": [
    "measure(grid_search)"
   ]
  },
  {
   "cell_type": "markdown",
   "metadata": {},
   "source": [
    "## SVM"
   ]
  },
  {
   "cell_type": "code",
   "execution_count": 140,
   "metadata": {},
   "outputs": [
    {
     "name": "stdout",
     "output_type": "stream",
     "text": [
      "Best parameters: {'C': 100, 'gamma': 'scale', 'kernel': 'rbf'}\n",
      "Best score: 0.12829589340262632\n"
     ]
    }
   ],
   "source": [
    "param_grid_reduced = {\n",
    "    'C': [10, 100, 1000],\n",
    "    'gamma': ['scale', 'auto'],\n",
    "    'kernel': ['rbf'] \n",
    "}\n",
    "\n",
    "svm_balanced = SVC(class_weight = 'balanced', random_state = 42, probability=True)\n",
    "grid_search_reduced = GridSearchCV(svm_balanced, param_grid_reduced, scoring = 'average_precision', cv = 5)\n",
    "\n",
    "# Fit the grid search\n",
    "grid_search_reduced.fit(X_train_scaled, y_train)\n",
    "\n",
    "# Output the best parameters and the best score\n",
    "print(\"Best parameters:\", grid_search_reduced.best_params_)\n",
    "print(\"Best score:\", grid_search_reduced.best_score_)"
   ]
  },
  {
   "cell_type": "code",
   "execution_count": 141,
   "metadata": {
    "scrolled": true
   },
   "outputs": [
    {
     "name": "stdout",
     "output_type": "stream",
     "text": [
      "              precision    recall  f1-score   support\n",
      "\n",
      "           0       1.00      0.99      0.99      9587\n",
      "           1       0.27      1.00      0.42        46\n",
      "\n",
      "    accuracy                           0.99      9633\n",
      "   macro avg       0.63      0.99      0.71      9633\n",
      "weighted avg       1.00      0.99      0.99      9633\n",
      "\n",
      "Train Auc_roc: 0.9967256384324787\n",
      "Train average precision: 0.41720968325330565\n",
      "              precision    recall  f1-score   support\n",
      "\n",
      "           0       1.00      0.98      0.99      3186\n",
      "           1       0.19      0.50      0.27        26\n",
      "\n",
      "    accuracy                           0.98      3212\n",
      "   macro avg       0.59      0.74      0.63      3212\n",
      "weighted avg       0.99      0.98      0.98      3212\n",
      "\n",
      "Test auc_roc: 0.9307849244289922\n",
      "Test average precision: 0.28006059244714393\n"
     ]
    }
   ],
   "source": [
    "measure(grid_search_reduced)"
   ]
  },
  {
   "cell_type": "markdown",
   "metadata": {},
   "source": [
    "## SMOTE + Decision Tree"
   ]
  },
  {
   "cell_type": "code",
   "execution_count": 142,
   "metadata": {},
   "outputs": [
    {
     "name": "stdout",
     "output_type": "stream",
     "text": [
      "Best parameters: {'model__ccp_alpha': 1e-05, 'model__max_depth': 10, 'model__max_features': 'log2', 'model__min_samples_leaf': 50}\n",
      "Best score: 0.10684436549915599\n"
     ]
    }
   ],
   "source": [
    "model = DecisionTreeClassifier(random_state = 42)\n",
    "under = RandomUnderSampler(sampling_strategy = 0.9, random_state = 42)\n",
    "over = SMOTE(sampling_strategy = 0.5, random_state = 42)\n",
    "steps = [('over', over), ('under', under), ('model', model)]\n",
    "pipeline = Pipeline(steps = steps)\n",
    "\n",
    "parameters = {\n",
    "    'model__max_depth': [5, 10, 15], \n",
    "    'model__min_samples_leaf': [40, 50, 60], \n",
    "    'model__max_features': ['log2'], \n",
    "    'model__ccp_alpha': [0.0001, 0.00001, 0.000001]\n",
    "}\n",
    "smote_tree = GridSearchCV(\n",
    "            pipeline,\n",
    "            param_grid = parameters,\n",
    "            scoring = 'average_precision',\n",
    "            cv = 5)\n",
    "smote_tree.fit(X_train_scaled, y_train)\n",
    "print(\"Best parameters:\", smote_tree.best_params_)\n",
    "print(\"Best score:\", smote_tree.best_score_)"
   ]
  },
  {
   "cell_type": "code",
   "execution_count": 143,
   "metadata": {},
   "outputs": [
    {
     "name": "stdout",
     "output_type": "stream",
     "text": [
      "              precision    recall  f1-score   support\n",
      "\n",
      "           0       1.00      0.93      0.96      9587\n",
      "           1       0.06      0.87      0.11        46\n",
      "\n",
      "    accuracy                           0.93      9633\n",
      "   macro avg       0.53      0.90      0.54      9633\n",
      "weighted avg       0.99      0.93      0.96      9633\n",
      "\n",
      "Train Auc_roc: 0.9718992204116987\n",
      "Train average precision: 0.19833537188387634\n",
      "              precision    recall  f1-score   support\n",
      "\n",
      "           0       1.00      0.92      0.96      3186\n",
      "           1       0.08      0.81      0.15        26\n",
      "\n",
      "    accuracy                           0.92      3212\n",
      "   macro avg       0.54      0.87      0.55      3212\n",
      "weighted avg       0.99      0.92      0.95      3212\n",
      "\n",
      "Test auc_roc: 0.9271089864310204\n",
      "Test average precision: 0.177545783076817\n"
     ]
    }
   ],
   "source": [
    "measure(smote_tree)"
   ]
  },
  {
   "cell_type": "code",
   "execution_count": 144,
   "metadata": {},
   "outputs": [
    {
     "data": {
      "image/png": "[encoded data removed]",
      "text/plain": [
       "<Figure size 640x480 with 1 Axes>"
      ]
     },
     "metadata": {},
     "output_type": "display_data"
    }
   ],
   "source": [
    "importances = smote_tree.best_estimator_.named_steps['model'].feature_importances_\n",
    "indices = np.argsort(importances)[::-1][:10]\n",
    "plt.barh(range(len(indices)), importances[indices], alpha = 0.7)\n",
    "plt.yticks(range(len(indices)), X_train.columns[indices])\n",
    "plt.xlabel(\"Feature importance\")\n",
    "plt.show()"
   ]
  },
  {
   "cell_type": "code",
   "execution_count": 145,
   "metadata": {},
   "outputs": [
    {
     "data": {
      "image/png": "[encoded data removed]",
      "text/plain": [
       "<Figure size 640x480 with 1 Axes>"
      ]
     },
     "metadata": {},
     "output_type": "display_data"
    }
   ],
   "source": [
    "# Mining industry has the highest bankruptcy ratio\n",
    "num_bank = data.groupby('main_industry')['bank_status'].apply(lambda x: (x == 1).sum())\n",
    "num_nonbank = data.groupby('main_industry')['bank_status'].apply(lambda x: (x == 0).sum())\n",
    "ratio = num_bank / num_nonbank\n",
    "ratio.plot(kind = \"bar\", alpha = 0.7)\n",
    "plt.xticks(rotation = 90)\n",
    "plt.show()"
   ]
  },
  {
   "cell_type": "markdown",
   "metadata": {},
   "source": [
    "## SMOTE + Logistic Regression"
   ]
  },
  {
   "cell_type": "code",
   "execution_count": 146,
   "metadata": {},
   "outputs": [
    {
     "data": {
      "text/html": [
       "<style>#sk-container-id-4 {color: black;}#sk-container-id-4 pre{padding: 0;}#sk-container-id-4 div.sk-toggleable {background-color: white;}#sk-container-id-4 label.sk-toggleable__label {cursor: pointer;display: block;width: 100%;margin-bottom: 0;padding: 0.3em;box-sizing: border-box;text-align: center;}#sk-container-id-4 label.sk-toggleable__label-arrow:before {content: \"▸\";float: left;margin-right: 0.25em;color: #696969;}#sk-container-id-4 label.sk-toggleable__label-arrow:hover:before {color: black;}#sk-container-id-4 div.sk-estimator:hover label.sk-toggleable__label-arrow:before {color: black;}#sk-container-id-4 div.sk-toggleable__content {max-height: 0;max-width: 0;overflow: hidden;text-align: left;background-color: #f0f8ff;}#sk-container-id-4 div.sk-toggleable__content pre {margin: 0.2em;color: black;border-radius: 0.25em;background-color: #f0f8ff;}#sk-container-id-4 input.sk-toggleable__control:checked~div.sk-toggleable__content {max-height: 200px;max-width: 100%;overflow: auto;}#sk-container-id-4 input.sk-toggleable__control:checked~label.sk-toggleable__label-arrow:before {content: \"▾\";}#sk-container-id-4 div.sk-estimator input.sk-toggleable__control:checked~label.sk-toggleable__label {background-color: #d4ebff;}#sk-container-id-4 div.sk-label input.sk-toggleable__control:checked~label.sk-toggleable__label {background-color: #d4ebff;}#sk-container-id-4 input.sk-hidden--visually {border: 0;clip: rect(1px 1px 1px 1px);clip: rect(1px, 1px, 1px, 1px);height: 1px;margin: -1px;overflow: hidden;padding: 0;position: absolute;width: 1px;}#sk-container-id-4 div.sk-estimator {font-family: monospace;background-color: #f0f8ff;border: 1px dotted black;border-radius: 0.25em;box-sizing: border-box;margin-bottom: 0.5em;}#sk-container-id-4 div.sk-estimator:hover {background-color: #d4ebff;}#sk-container-id-4 div.sk-parallel-item::after {content: \"\";width: 100%;border-bottom: 1px solid gray;flex-grow: 1;}#sk-container-id-4 div.sk-label:hover label.sk-toggleable__label {background-color: #d4ebff;}#sk-container-id-4 div.sk-serial::before {content: \"\";position: absolute;border-left: 1px solid gray;box-sizing: border-box;top: 0;bottom: 0;left: 50%;z-index: 0;}#sk-container-id-4 div.sk-serial {display: flex;flex-direction: column;align-items: center;background-color: white;padding-right: 0.2em;padding-left: 0.2em;position: relative;}#sk-container-id-4 div.sk-item {position: relative;z-index: 1;}#sk-container-id-4 div.sk-parallel {display: flex;align-items: stretch;justify-content: center;background-color: white;position: relative;}#sk-container-id-4 div.sk-item::before, #sk-container-id-4 div.sk-parallel-item::before {content: \"\";position: absolute;border-left: 1px solid gray;box-sizing: border-box;top: 0;bottom: 0;left: 50%;z-index: -1;}#sk-container-id-4 div.sk-parallel-item {display: flex;flex-direction: column;z-index: 1;position: relative;background-color: white;}#sk-container-id-4 div.sk-parallel-item:first-child::after {align-self: flex-end;width: 50%;}#sk-container-id-4 div.sk-parallel-item:last-child::after {align-self: flex-start;width: 50%;}#sk-container-id-4 div.sk-parallel-item:only-child::after {width: 0;}#sk-container-id-4 div.sk-dashed-wrapped {border: 1px dashed gray;margin: 0 0.4em 0.5em 0.4em;box-sizing: border-box;padding-bottom: 0.4em;background-color: white;}#sk-container-id-4 div.sk-label label {font-family: monospace;font-weight: bold;display: inline-block;line-height: 1.2em;}#sk-container-id-4 div.sk-label-container {text-align: center;}#sk-container-id-4 div.sk-container {/* jupyter's `normalize.less` sets `[hidden] { display: none; }` but bootstrap.min.css set `[hidden] { display: none !important; }` so we also need the `!important` here to be able to override the default hidden behavior on the sphinx rendered scikit-learn.org. See: https://github.com/scikit-learn/scikit-learn/issues/21755 */display: inline-block !important;position: relative;}#sk-container-id-4 div.sk-text-repr-fallback {display: none;}</style><div id=\"sk-container-id-4\" class=\"sk-top-container\"><div class=\"sk-text-repr-fallback\"><pre>Pipeline(steps=[(&#x27;over&#x27;, SMOTE(random_state=42, sampling_strategy=0.5)),\n",
       "                (&#x27;under&#x27;,\n",
       "                 RandomUnderSampler(random_state=42, sampling_strategy=0.9)),\n",
       "                (&#x27;model&#x27;,\n",
       "                 LogisticRegression(fit_intercept=False, max_iter=1000))])</pre><b>In a Jupyter environment, please rerun this cell to show the HTML representation or trust the notebook. <br />On GitHub, the HTML representation is unable to render, please try loading this page with nbviewer.org.</b></div><div class=\"sk-container\" hidden><div class=\"sk-item sk-dashed-wrapped\"><div class=\"sk-label-container\"><div class=\"sk-label sk-toggleable\"><input class=\"sk-toggleable__control sk-hidden--visually\" id=\"sk-estimator-id-13\" type=\"checkbox\" ><label for=\"sk-estimator-id-13\" class=\"sk-toggleable__label sk-toggleable__label-arrow\">Pipeline</label><div class=\"sk-toggleable__content\"><pre>Pipeline(steps=[(&#x27;over&#x27;, SMOTE(random_state=42, sampling_strategy=0.5)),\n",
       "                (&#x27;under&#x27;,\n",
       "                 RandomUnderSampler(random_state=42, sampling_strategy=0.9)),\n",
       "                (&#x27;model&#x27;,\n",
       "                 LogisticRegression(fit_intercept=False, max_iter=1000))])</pre></div></div></div><div class=\"sk-serial\"><div class=\"sk-item\"><div class=\"sk-estimator sk-toggleable\"><input class=\"sk-toggleable__control sk-hidden--visually\" id=\"sk-estimator-id-14\" type=\"checkbox\" ><label for=\"sk-estimator-id-14\" class=\"sk-toggleable__label sk-toggleable__label-arrow\">SMOTE</label><div class=\"sk-toggleable__content\"><pre>SMOTE(random_state=42, sampling_strategy=0.5)</pre></div></div></div><div class=\"sk-item\"><div class=\"sk-estimator sk-toggleable\"><input class=\"sk-toggleable__control sk-hidden--visually\" id=\"sk-estimator-id-15\" type=\"checkbox\" ><label for=\"sk-estimator-id-15\" class=\"sk-toggleable__label sk-toggleable__label-arrow\">RandomUnderSampler</label><div class=\"sk-toggleable__content\"><pre>RandomUnderSampler(random_state=42, sampling_strategy=0.9)</pre></div></div></div><div class=\"sk-item\"><div class=\"sk-estimator sk-toggleable\"><input class=\"sk-toggleable__control sk-hidden--visually\" id=\"sk-estimator-id-16\" type=\"checkbox\" ><label for=\"sk-estimator-id-16\" class=\"sk-toggleable__label sk-toggleable__label-arrow\">LogisticRegression</label><div class=\"sk-toggleable__content\"><pre>LogisticRegression(fit_intercept=False, max_iter=1000)</pre></div></div></div></div></div></div></div>"
      ],
      "text/plain": [
       "Pipeline(steps=[('over', SMOTE(random_state=42, sampling_strategy=0.5)),\n",
       "                ('under',\n",
       "                 RandomUnderSampler(random_state=42, sampling_strategy=0.9)),\n",
       "                ('model',\n",
       "                 LogisticRegression(fit_intercept=False, max_iter=1000))])"
      ]
     },
     "execution_count": 146,
     "metadata": {},
     "output_type": "execute_result"
    }
   ],
   "source": [
    "model = LogisticRegression(max_iter = 1000, fit_intercept = False)\n",
    "under = RandomUnderSampler(sampling_strategy = 0.9, random_state = 42)\n",
    "over = SMOTE(sampling_strategy = 0.5, random_state = 42)\n",
    "steps = [('over', over), ('under', under), ('model', model)]\n",
    "smote_lr = Pipeline(steps = steps)\n",
    "smote_lr.fit(X_train_scaled, y_train)"
   ]
  },
  {
   "cell_type": "code",
   "execution_count": 147,
   "metadata": {},
   "outputs": [
    {
     "name": "stdout",
     "output_type": "stream",
     "text": [
      "              precision    recall  f1-score   support\n",
      "\n",
      "           0       1.00      0.84      0.91      9587\n",
      "           1       0.02      0.83      0.05        46\n",
      "\n",
      "    accuracy                           0.84      9633\n",
      "   macro avg       0.51      0.83      0.48      9633\n",
      "weighted avg       0.99      0.84      0.91      9633\n",
      "\n",
      "Train Auc_roc: 0.913349599321545\n",
      "Train average precision: 0.039931866095125154\n",
      "              precision    recall  f1-score   support\n",
      "\n",
      "           0       1.00      0.83      0.91      3186\n",
      "           1       0.04      0.81      0.07        26\n",
      "\n",
      "    accuracy                           0.83      3212\n",
      "   macro avg       0.52      0.82      0.49      3212\n",
      "weighted avg       0.99      0.83      0.90      3212\n",
      "\n",
      "Test auc_roc: 0.9262216910521995\n",
      "Test average precision: 0.12074872941461902\n"
     ]
    }
   ],
   "source": [
    "measure(smote_lr)"
   ]
  },
  {
   "cell_type": "code",
   "execution_count": 148,
   "metadata": {},
   "outputs": [
    {
     "name": "stdout",
     "output_type": "stream",
     "text": [
      "['NetCashProvidedByUsedInFinancingActivities', 'year_2015', 'ebit_over_assets', 'cash_operation_over_liabilities', 'OperatingIncomeLoss', 'year_2021', 'NetIncomeLoss', 'CashAndCashEquivalentsAtCarryingValue', 'year_2012', 'year_2014', 'year_2013', 'year_2020', 'LiabilitiesCurrent', 'year_2024', 'Assets', 'main_industry_Mining', 'year_2016']\n"
     ]
    }
   ],
   "source": [
    "# The coefficients for each feature\n",
    "df = pd.DataFrame({\n",
    "    'Features': X_train_scaled.columns,\n",
    "    'Coefficients': smote_lr.named_steps['model'].coef_[0]\n",
    "}\n",
    ").sort_values(by = 'Coefficients')\n",
    "print(df[df['Coefficients']>0]['Features'].tolist())"
   ]
  },
  {
   "cell_type": "markdown",
   "metadata": {},
   "source": [
    "## SMOTE + SVM"
   ]
  },
  {
   "cell_type": "code",
   "execution_count": null,
   "metadata": {},
   "outputs": [],
   "source": [
    "model = SVC(probability=True, random_state = 42)\n",
    "under = RandomUnderSampler(sampling_strategy = 0.9, random_state = 42)\n",
    "over = SMOTE(sampling_strategy = 0.5, random_state = 42)\n",
    "steps = [('over', over), ('under', under), ('model', model)]\n",
    "pipeline = Pipeline(steps = steps)\n",
    "\n",
    "parameters = {\n",
    "    'model__C': [10, 100, 1000],\n",
    "    'model__gamma': ['scale', 'auto'],\n",
    "    'model__kernel': ['rbf'] \n",
    "}\n",
    "smote_svm = GridSearchCV(\n",
    "            pipeline,\n",
    "            param_grid = parameters,\n",
    "            scoring = 'average_precision',\n",
    "            cv = 5)\n",
    "smote_svm.fit(X_train_scaled, y_train)\n",
    "print(\"Best parameters:\", smote_svm.best_params_)\n",
    "print(\"Best score:\", smote_svm.best_score_)"
   ]
  },
  {
   "cell_type": "code",
   "execution_count": null,
   "metadata": {},
   "outputs": [],
   "source": [
    "measure(smote_svm)"
   ]
  },
  {
   "cell_type": "code",
   "execution_count": null,
   "metadata": {},
   "outputs": [],
   "source": []
  },
  {
   "cell_type": "code",
   "execution_count": null,
   "metadata": {},
   "outputs": [],
   "source": []
  },
  {
   "cell_type": "code",
   "execution_count": null,
   "metadata": {},
   "outputs": [],
   "source": []
  },
  {
   "cell_type": "code",
   "execution_count": null,
   "metadata": {},
   "outputs": [],
   "source": []
  }
 ],
 "metadata": {
  "kernelspec": {
   "display_name": "Python 3 (ipykernel)",
   "language": "python",
   "name": "python3"
  },
  "language_info": {
   "codemirror_mode": {
    "name": "ipython",
    "version": 3
   },
   "file_extension": ".py",
   "mimetype": "text/x-python",
   "name": "python",
   "nbconvert_exporter": "python",
   "pygments_lexer": "ipython3",
   "version": "3.9.18"
  }
 },
 "nbformat": 4,
 "nbformat_minor": 4
}
