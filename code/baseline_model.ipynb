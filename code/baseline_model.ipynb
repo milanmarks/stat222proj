{
 "cells": [
  {
   "cell_type": "markdown",
   "metadata": {},
   "source": [
    "# Baseline Models"
   ]
  },
  {
   "cell_type": "code",
   "execution_count": 21,
   "metadata": {
    "ExecuteTime": {
     "end_time": "2024-04-12T22:39:59.607862Z",
     "start_time": "2024-04-12T22:39:59.603514Z"
    }
   },
   "outputs": [],
   "source": [
    "from sklearn.model_selection import train_test_split\n",
    "from sklearn.linear_model import LogisticRegression\n",
    "from sklearn.tree import DecisionTreeClassifier\n",
    "from sklearn.svm import SVC\n",
    "from sklearn import tree\n",
    "from sklearn.metrics import roc_auc_score\n",
    "from sklearn.metrics import classification_report\n",
    "from sklearn.preprocessing import StandardScaler\n",
    "from sklearn.model_selection import GridSearchCV\n",
    "from sklearn.metrics import average_precision_score, RocCurveDisplay, roc_curve\n",
    "from sklearn import metrics\n",
    "\n",
    "import numpy as np\n",
    "import pandas as pd\n",
    "import matplotlib.pyplot as plt\n",
    "\n",
    "from collections import Counter\n",
    "from imblearn.over_sampling import SMOTE\n",
    "from imblearn.under_sampling import RandomUnderSampler\n",
    "from imblearn.ensemble import EasyEnsembleClassifier\n",
    "from imblearn.pipeline import Pipeline"
   ]
  },
  {
   "cell_type": "code",
   "execution_count": 22,
   "metadata": {
    "ExecuteTime": {
     "end_time": "2024-04-12T22:47:58.128510Z",
     "start_time": "2024-04-12T22:47:43.432353Z"
    }
   },
   "outputs": [],
   "source": [
    "data = pd.read_csv('../data/train_test_set.csv')"
   ]
  },
  {
   "cell_type": "code",
   "execution_count": 23,
   "metadata": {
    "ExecuteTime": {
     "end_time": "2024-04-12T22:42:54.173190Z",
     "start_time": "2024-04-12T22:42:54.143042Z"
    }
   },
   "outputs": [],
   "source": [
    "data = data.drop(columns = ['cik', 'sic', 'sic_description', 'filedate', 'accession_num',\n",
    "       'primary_doc', 'filelink', 'item_1A', 'item_2', 'item_7'])\n",
    "data = pd.get_dummies(data, columns = ['main_industry', 'year'])"
   ]
  },
  {
   "cell_type": "code",
   "execution_count": 24,
   "metadata": {},
   "outputs": [],
   "source": [
    "X_train = data[data['train'] == 1].drop(columns=['bank_status'])\n",
    "y_train = data[data['train'] == 1]['bank_status']\n",
    "X_test = data[data['train'] == 0].drop(columns=['bank_status'])\n",
    "y_test = data[data['train'] == 0]['bank_status']"
   ]
  },
  {
   "cell_type": "code",
   "execution_count": 25,
   "metadata": {
    "ExecuteTime": {
     "end_time": "2024-04-12T22:42:54.237993Z",
     "start_time": "2024-04-12T22:42:54.173970Z"
    }
   },
   "outputs": [],
   "source": [
    "# Standardization\n",
    "scaler = StandardScaler().fit(X_train.iloc[:, 0:23])\n",
    "scaled_terms_train = pd.DataFrame(scaler.transform(X_train.iloc[:, 0:23]), columns = X_train.columns[0:23])\n",
    "X_train_scaled = pd.concat([scaled_terms_train, X_train.iloc[:,23:].reset_index(drop = True)], axis = 1)\n",
    "scaled_terms_test = pd.DataFrame(scaler.transform(X_test.iloc[:, 0:23]), columns = X_test.columns[0:23])\n",
    "X_test_scaled = pd.concat([scaled_terms_test, X_test.iloc[:,23:].reset_index(drop = True)], axis = 1)"
   ]
  },
  {
   "cell_type": "code",
   "execution_count": 26,
   "metadata": {
    "ExecuteTime": {
     "end_time": "2024-04-12T22:42:54.251861Z",
     "start_time": "2024-04-12T22:42:54.244240Z"
    }
   },
   "outputs": [],
   "source": [
    "def measure(clf):\n",
    "    y_pred_test = clf.predict(X_test_scaled)\n",
    "    y_pred_prob_test = clf.predict_proba(X_test_scaled)[:,1]\n",
    "    y_pred_train = clf.predict(X_train_scaled)\n",
    "    y_pred_prob_train = clf.predict_proba(X_train_scaled)[:,1]\n",
    "\n",
    "    print(classification_report(y_train, y_pred_train))\n",
    "    print(\"Train Auc_roc:\", roc_auc_score(y_train, y_pred_prob_train))\n",
    "    print(\"Train average precision:\", average_precision_score(y_train, y_pred_prob_train))\n",
    "\n",
    "    print(classification_report(y_test, y_pred_test))\n",
    "    print(\"Test auc_roc:\", roc_auc_score(y_test, y_pred_prob_test))\n",
    "    print(\"Test average precision:\", average_precision_score(y_test, y_pred_prob_test))"
   ]
  },
  {
   "cell_type": "markdown",
   "metadata": {},
   "source": [
    "# 1. Logistic Regression"
   ]
  },
  {
   "cell_type": "markdown",
   "metadata": {},
   "source": [
    "## 1.1. vanilla"
   ]
  },
  {
   "cell_type": "code",
   "execution_count": 27,
   "metadata": {
    "ExecuteTime": {
     "end_time": "2024-04-12T22:42:55.305755Z",
     "start_time": "2024-04-12T22:42:54.253415Z"
    },
    "scrolled": true
   },
   "outputs": [
    {
     "name": "stdout",
     "output_type": "stream",
     "text": [
      "              precision    recall  f1-score   support\n",
      "\n",
      "           0       0.99      1.00      1.00      7025\n",
      "           1       0.00      0.00      0.00        40\n",
      "\n",
      "    accuracy                           0.99      7065\n",
      "   macro avg       0.50      0.50      0.50      7065\n",
      "weighted avg       0.99      0.99      0.99      7065\n",
      "\n",
      "Train Auc_roc: 0.9000871886120997\n",
      "Train average precision: 0.12166393014014307\n",
      "              precision    recall  f1-score   support\n",
      "\n",
      "           0       1.00      0.91      0.95      2330\n",
      "           1       0.07      0.62      0.13        26\n",
      "\n",
      "    accuracy                           0.91      2356\n",
      "   macro avg       0.53      0.76      0.54      2356\n",
      "weighted avg       0.99      0.91      0.94      2356\n",
      "\n",
      "Test auc_roc: 0.897160779135028\n",
      "Test average precision: 0.07554381043239894\n"
     ]
    },
    {
     "name": "stderr",
     "output_type": "stream",
     "text": [
      "/Users/haodong/opt/anaconda3/lib/python3.9/site-packages/sklearn/metrics/_classification.py:1469: UndefinedMetricWarning: Precision and F-score are ill-defined and being set to 0.0 in labels with no predicted samples. Use `zero_division` parameter to control this behavior.\n",
      "  _warn_prf(average, modifier, msg_start, len(result))\n",
      "/Users/haodong/opt/anaconda3/lib/python3.9/site-packages/sklearn/metrics/_classification.py:1469: UndefinedMetricWarning: Precision and F-score are ill-defined and being set to 0.0 in labels with no predicted samples. Use `zero_division` parameter to control this behavior.\n",
      "  _warn_prf(average, modifier, msg_start, len(result))\n",
      "/Users/haodong/opt/anaconda3/lib/python3.9/site-packages/sklearn/metrics/_classification.py:1469: UndefinedMetricWarning: Precision and F-score are ill-defined and being set to 0.0 in labels with no predicted samples. Use `zero_division` parameter to control this behavior.\n",
      "  _warn_prf(average, modifier, msg_start, len(result))\n"
     ]
    }
   ],
   "source": [
    "vlr = LogisticRegression(max_iter = 1000, fit_intercept = False)\n",
    "vlr.fit(X_train_scaled, y_train)\n",
    "measure(vlr)"
   ]
  },
  {
   "cell_type": "markdown",
   "metadata": {},
   "source": [
    "## 1.2. Weighted data"
   ]
  },
  {
   "cell_type": "code",
   "execution_count": 28,
   "metadata": {
    "ExecuteTime": {
     "end_time": "2024-04-12T22:40:22.805235Z",
     "start_time": "2024-04-12T22:40:22.805166Z"
    },
    "scrolled": true
   },
   "outputs": [
    {
     "name": "stdout",
     "output_type": "stream",
     "text": [
      "              precision    recall  f1-score   support\n",
      "\n",
      "           0       1.00      0.85      0.92      7025\n",
      "           1       0.03      0.95      0.07        40\n",
      "\n",
      "    accuracy                           0.85      7065\n",
      "   macro avg       0.52      0.90      0.49      7065\n",
      "weighted avg       0.99      0.85      0.91      7065\n",
      "\n",
      "Train Auc_roc: 0.9340231316725978\n",
      "Train average precision: 0.051402261898943404\n",
      "              precision    recall  f1-score   support\n",
      "\n",
      "           0       1.00      0.39      0.56      2330\n",
      "           1       0.02      1.00      0.04        26\n",
      "\n",
      "    accuracy                           0.40      2356\n",
      "   macro avg       0.51      0.70      0.30      2356\n",
      "weighted avg       0.99      0.40      0.56      2356\n",
      "\n",
      "Test auc_roc: 0.8870749422251568\n",
      "Test average precision: 0.06812607959594369\n"
     ]
    }
   ],
   "source": [
    "wlr = LogisticRegression(max_iter = 1000, fit_intercept = False, class_weight='balanced')\n",
    "wlr.fit(X_train_scaled, y_train)\n",
    "measure(wlr)"
   ]
  },
  {
   "cell_type": "markdown",
   "metadata": {},
   "source": [
    "## 1.3. SMOTE + Logistic Regression"
   ]
  },
  {
   "cell_type": "code",
   "execution_count": 29,
   "metadata": {},
   "outputs": [
    {
     "data": {
      "text/html": [
       "<style>#sk-container-id-1 {color: black;}#sk-container-id-1 pre{padding: 0;}#sk-container-id-1 div.sk-toggleable {background-color: white;}#sk-container-id-1 label.sk-toggleable__label {cursor: pointer;display: block;width: 100%;margin-bottom: 0;padding: 0.3em;box-sizing: border-box;text-align: center;}#sk-container-id-1 label.sk-toggleable__label-arrow:before {content: \"▸\";float: left;margin-right: 0.25em;color: #696969;}#sk-container-id-1 label.sk-toggleable__label-arrow:hover:before {color: black;}#sk-container-id-1 div.sk-estimator:hover label.sk-toggleable__label-arrow:before {color: black;}#sk-container-id-1 div.sk-toggleable__content {max-height: 0;max-width: 0;overflow: hidden;text-align: left;background-color: #f0f8ff;}#sk-container-id-1 div.sk-toggleable__content pre {margin: 0.2em;color: black;border-radius: 0.25em;background-color: #f0f8ff;}#sk-container-id-1 input.sk-toggleable__control:checked~div.sk-toggleable__content {max-height: 200px;max-width: 100%;overflow: auto;}#sk-container-id-1 input.sk-toggleable__control:checked~label.sk-toggleable__label-arrow:before {content: \"▾\";}#sk-container-id-1 div.sk-estimator input.sk-toggleable__control:checked~label.sk-toggleable__label {background-color: #d4ebff;}#sk-container-id-1 div.sk-label input.sk-toggleable__control:checked~label.sk-toggleable__label {background-color: #d4ebff;}#sk-container-id-1 input.sk-hidden--visually {border: 0;clip: rect(1px 1px 1px 1px);clip: rect(1px, 1px, 1px, 1px);height: 1px;margin: -1px;overflow: hidden;padding: 0;position: absolute;width: 1px;}#sk-container-id-1 div.sk-estimator {font-family: monospace;background-color: #f0f8ff;border: 1px dotted black;border-radius: 0.25em;box-sizing: border-box;margin-bottom: 0.5em;}#sk-container-id-1 div.sk-estimator:hover {background-color: #d4ebff;}#sk-container-id-1 div.sk-parallel-item::after {content: \"\";width: 100%;border-bottom: 1px solid gray;flex-grow: 1;}#sk-container-id-1 div.sk-label:hover label.sk-toggleable__label {background-color: #d4ebff;}#sk-container-id-1 div.sk-serial::before {content: \"\";position: absolute;border-left: 1px solid gray;box-sizing: border-box;top: 0;bottom: 0;left: 50%;z-index: 0;}#sk-container-id-1 div.sk-serial {display: flex;flex-direction: column;align-items: center;background-color: white;padding-right: 0.2em;padding-left: 0.2em;position: relative;}#sk-container-id-1 div.sk-item {position: relative;z-index: 1;}#sk-container-id-1 div.sk-parallel {display: flex;align-items: stretch;justify-content: center;background-color: white;position: relative;}#sk-container-id-1 div.sk-item::before, #sk-container-id-1 div.sk-parallel-item::before {content: \"\";position: absolute;border-left: 1px solid gray;box-sizing: border-box;top: 0;bottom: 0;left: 50%;z-index: -1;}#sk-container-id-1 div.sk-parallel-item {display: flex;flex-direction: column;z-index: 1;position: relative;background-color: white;}#sk-container-id-1 div.sk-parallel-item:first-child::after {align-self: flex-end;width: 50%;}#sk-container-id-1 div.sk-parallel-item:last-child::after {align-self: flex-start;width: 50%;}#sk-container-id-1 div.sk-parallel-item:only-child::after {width: 0;}#sk-container-id-1 div.sk-dashed-wrapped {border: 1px dashed gray;margin: 0 0.4em 0.5em 0.4em;box-sizing: border-box;padding-bottom: 0.4em;background-color: white;}#sk-container-id-1 div.sk-label label {font-family: monospace;font-weight: bold;display: inline-block;line-height: 1.2em;}#sk-container-id-1 div.sk-label-container {text-align: center;}#sk-container-id-1 div.sk-container {/* jupyter's `normalize.less` sets `[hidden] { display: none; }` but bootstrap.min.css set `[hidden] { display: none !important; }` so we also need the `!important` here to be able to override the default hidden behavior on the sphinx rendered scikit-learn.org. See: https://github.com/scikit-learn/scikit-learn/issues/21755 */display: inline-block !important;position: relative;}#sk-container-id-1 div.sk-text-repr-fallback {display: none;}</style><div id=\"sk-container-id-1\" class=\"sk-top-container\"><div class=\"sk-text-repr-fallback\"><pre>Pipeline(steps=[(&#x27;over&#x27;, SMOTE(random_state=42, sampling_strategy=0.5)),\n",
       "                (&#x27;under&#x27;,\n",
       "                 RandomUnderSampler(random_state=42, sampling_strategy=0.9)),\n",
       "                (&#x27;model&#x27;,\n",
       "                 LogisticRegression(fit_intercept=False, max_iter=1000))])</pre><b>In a Jupyter environment, please rerun this cell to show the HTML representation or trust the notebook. <br />On GitHub, the HTML representation is unable to render, please try loading this page with nbviewer.org.</b></div><div class=\"sk-container\" hidden><div class=\"sk-item sk-dashed-wrapped\"><div class=\"sk-label-container\"><div class=\"sk-label sk-toggleable\"><input class=\"sk-toggleable__control sk-hidden--visually\" id=\"sk-estimator-id-1\" type=\"checkbox\" ><label for=\"sk-estimator-id-1\" class=\"sk-toggleable__label sk-toggleable__label-arrow\">Pipeline</label><div class=\"sk-toggleable__content\"><pre>Pipeline(steps=[(&#x27;over&#x27;, SMOTE(random_state=42, sampling_strategy=0.5)),\n",
       "                (&#x27;under&#x27;,\n",
       "                 RandomUnderSampler(random_state=42, sampling_strategy=0.9)),\n",
       "                (&#x27;model&#x27;,\n",
       "                 LogisticRegression(fit_intercept=False, max_iter=1000))])</pre></div></div></div><div class=\"sk-serial\"><div class=\"sk-item\"><div class=\"sk-estimator sk-toggleable\"><input class=\"sk-toggleable__control sk-hidden--visually\" id=\"sk-estimator-id-2\" type=\"checkbox\" ><label for=\"sk-estimator-id-2\" class=\"sk-toggleable__label sk-toggleable__label-arrow\">SMOTE</label><div class=\"sk-toggleable__content\"><pre>SMOTE(random_state=42, sampling_strategy=0.5)</pre></div></div></div><div class=\"sk-item\"><div class=\"sk-estimator sk-toggleable\"><input class=\"sk-toggleable__control sk-hidden--visually\" id=\"sk-estimator-id-3\" type=\"checkbox\" ><label for=\"sk-estimator-id-3\" class=\"sk-toggleable__label sk-toggleable__label-arrow\">RandomUnderSampler</label><div class=\"sk-toggleable__content\"><pre>RandomUnderSampler(random_state=42, sampling_strategy=0.9)</pre></div></div></div><div class=\"sk-item\"><div class=\"sk-estimator sk-toggleable\"><input class=\"sk-toggleable__control sk-hidden--visually\" id=\"sk-estimator-id-4\" type=\"checkbox\" ><label for=\"sk-estimator-id-4\" class=\"sk-toggleable__label sk-toggleable__label-arrow\">LogisticRegression</label><div class=\"sk-toggleable__content\"><pre>LogisticRegression(fit_intercept=False, max_iter=1000)</pre></div></div></div></div></div></div></div>"
      ],
      "text/plain": [
       "Pipeline(steps=[('over', SMOTE(random_state=42, sampling_strategy=0.5)),\n",
       "                ('under',\n",
       "                 RandomUnderSampler(random_state=42, sampling_strategy=0.9)),\n",
       "                ('model',\n",
       "                 LogisticRegression(fit_intercept=False, max_iter=1000))])"
      ]
     },
     "execution_count": 29,
     "metadata": {},
     "output_type": "execute_result"
    }
   ],
   "source": [
    "model = LogisticRegression(max_iter = 1000, fit_intercept = False)\n",
    "under = RandomUnderSampler(sampling_strategy = 0.9, random_state = 42)\n",
    "over = SMOTE(sampling_strategy = 0.5, random_state = 42)\n",
    "steps = [('over', over), ('under', under), ('model', model)]\n",
    "smote_lr = Pipeline(steps = steps)\n",
    "smote_lr.fit(X_train_scaled, y_train)"
   ]
  },
  {
   "cell_type": "code",
   "execution_count": 30,
   "metadata": {
    "scrolled": false
   },
   "outputs": [
    {
     "name": "stdout",
     "output_type": "stream",
     "text": [
      "              precision    recall  f1-score   support\n",
      "\n",
      "           0       1.00      0.97      0.98      7025\n",
      "           1       0.07      0.42      0.12        40\n",
      "\n",
      "    accuracy                           0.96      7065\n",
      "   macro avg       0.53      0.70      0.55      7065\n",
      "weighted avg       0.99      0.96      0.98      7065\n",
      "\n",
      "Train Auc_roc: 0.8949697508896798\n",
      "Train average precision: 0.08025958552286513\n",
      "              precision    recall  f1-score   support\n",
      "\n",
      "           0       1.00      0.01      0.03      2330\n",
      "           1       0.01      1.00      0.02        26\n",
      "\n",
      "    accuracy                           0.03      2356\n",
      "   macro avg       0.51      0.51      0.03      2356\n",
      "weighted avg       0.99      0.03      0.03      2356\n",
      "\n",
      "Test auc_roc: 0.8183228788379002\n",
      "Test average precision: 0.057578430278492236\n"
     ]
    }
   ],
   "source": [
    "measure(smote_lr)"
   ]
  },
  {
   "cell_type": "markdown",
   "metadata": {},
   "source": [
    "# 2. Decision Tree"
   ]
  },
  {
   "cell_type": "code",
   "execution_count": 31,
   "metadata": {
    "scrolled": true
   },
   "outputs": [
    {
     "name": "stdout",
     "output_type": "stream",
     "text": [
      "Best parameters for vanilla tree: {'ccp_alpha': 0.0001, 'max_depth': 10, 'max_features': 'sqrt', 'min_samples_leaf': 10}\n",
      "Best parameters: {'ccp_alpha': 0.001, 'max_depth': 15, 'max_features': 'sqrt', 'min_samples_leaf': 20}\n"
     ]
    }
   ],
   "source": [
    "parameters = {\n",
    "    'max_depth': [10, 15, 20, 25, 30], \n",
    "    'min_samples_leaf': [5, 10, 20, 30], \n",
    "    'max_features': ['sqrt', 'log2'], \n",
    "    'ccp_alpha': [0.01, 0.001, 0.0001, 0.00001]\n",
    "}\n",
    "vanilla_tree = GridSearchCV(\n",
    "            estimator = tree.DecisionTreeClassifier(random_state = 42),\n",
    "            param_grid = parameters,\n",
    "            scoring = 'average_precision',\n",
    "            cv = 5)\n",
    "vanilla_tree.fit(X_train_scaled, y_train)\n",
    "\n",
    "grid_search = GridSearchCV(\n",
    "            estimator = tree.DecisionTreeClassifier(class_weight = 'balanced', random_state = 42),\n",
    "            param_grid = parameters,\n",
    "            scoring = 'average_precision',\n",
    "            cv = 5)\n",
    "grid_search.fit(X_train_scaled, y_train)\n",
    "\n",
    "print(\"Best parameters for vanilla tree:\", vanilla_tree.best_params_)\n",
    "print(\"Best parameters:\", grid_search.best_params_)"
   ]
  },
  {
   "cell_type": "markdown",
   "metadata": {},
   "source": [
    "## 2.1. vanilla tree"
   ]
  },
  {
   "cell_type": "code",
   "execution_count": 32,
   "metadata": {},
   "outputs": [
    {
     "name": "stdout",
     "output_type": "stream",
     "text": [
      "              precision    recall  f1-score   support\n",
      "\n",
      "           0       0.99      1.00      1.00      7025\n",
      "           1       0.00      0.00      0.00        40\n",
      "\n",
      "    accuracy                           0.99      7065\n",
      "   macro avg       0.50      0.50      0.50      7065\n",
      "weighted avg       0.99      0.99      0.99      7065\n",
      "\n",
      "Train Auc_roc: 0.9388416370106762\n",
      "Train average precision: 0.2015877356835727\n",
      "              precision    recall  f1-score   support\n",
      "\n",
      "           0       0.99      1.00      0.99      2330\n",
      "           1       0.00      0.00      0.00        26\n",
      "\n",
      "    accuracy                           0.99      2356\n",
      "   macro avg       0.49      0.50      0.50      2356\n",
      "weighted avg       0.98      0.99      0.98      2356\n",
      "\n",
      "Test auc_roc: 0.8114394189501486\n",
      "Test average precision: 0.0609664844193817\n"
     ]
    },
    {
     "name": "stderr",
     "output_type": "stream",
     "text": [
      "/Users/haodong/opt/anaconda3/lib/python3.9/site-packages/sklearn/metrics/_classification.py:1469: UndefinedMetricWarning: Precision and F-score are ill-defined and being set to 0.0 in labels with no predicted samples. Use `zero_division` parameter to control this behavior.\n",
      "  _warn_prf(average, modifier, msg_start, len(result))\n",
      "/Users/haodong/opt/anaconda3/lib/python3.9/site-packages/sklearn/metrics/_classification.py:1469: UndefinedMetricWarning: Precision and F-score are ill-defined and being set to 0.0 in labels with no predicted samples. Use `zero_division` parameter to control this behavior.\n",
      "  _warn_prf(average, modifier, msg_start, len(result))\n",
      "/Users/haodong/opt/anaconda3/lib/python3.9/site-packages/sklearn/metrics/_classification.py:1469: UndefinedMetricWarning: Precision and F-score are ill-defined and being set to 0.0 in labels with no predicted samples. Use `zero_division` parameter to control this behavior.\n",
      "  _warn_prf(average, modifier, msg_start, len(result))\n",
      "/Users/haodong/opt/anaconda3/lib/python3.9/site-packages/sklearn/metrics/_classification.py:1469: UndefinedMetricWarning: Precision and F-score are ill-defined and being set to 0.0 in labels with no predicted samples. Use `zero_division` parameter to control this behavior.\n",
      "  _warn_prf(average, modifier, msg_start, len(result))\n",
      "/Users/haodong/opt/anaconda3/lib/python3.9/site-packages/sklearn/metrics/_classification.py:1469: UndefinedMetricWarning: Precision and F-score are ill-defined and being set to 0.0 in labels with no predicted samples. Use `zero_division` parameter to control this behavior.\n",
      "  _warn_prf(average, modifier, msg_start, len(result))\n",
      "/Users/haodong/opt/anaconda3/lib/python3.9/site-packages/sklearn/metrics/_classification.py:1469: UndefinedMetricWarning: Precision and F-score are ill-defined and being set to 0.0 in labels with no predicted samples. Use `zero_division` parameter to control this behavior.\n",
      "  _warn_prf(average, modifier, msg_start, len(result))\n"
     ]
    }
   ],
   "source": [
    "measure(vanilla_tree)"
   ]
  },
  {
   "cell_type": "markdown",
   "metadata": {},
   "source": [
    "## 2.2. weighted data tree"
   ]
  },
  {
   "cell_type": "code",
   "execution_count": 33,
   "metadata": {},
   "outputs": [
    {
     "name": "stdout",
     "output_type": "stream",
     "text": [
      "              precision    recall  f1-score   support\n",
      "\n",
      "           0       1.00      0.96      0.98      7025\n",
      "           1       0.12      1.00      0.22        40\n",
      "\n",
      "    accuracy                           0.96      7065\n",
      "   macro avg       0.56      0.98      0.60      7065\n",
      "weighted avg       1.00      0.96      0.98      7065\n",
      "\n",
      "Train Auc_roc: 0.9877313167259787\n",
      "Train average precision: 0.20098033803293833\n",
      "              precision    recall  f1-score   support\n",
      "\n",
      "           0       0.99      0.96      0.97      2330\n",
      "           1       0.06      0.23      0.09        26\n",
      "\n",
      "    accuracy                           0.95      2356\n",
      "   macro avg       0.52      0.59      0.53      2356\n",
      "weighted avg       0.98      0.95      0.96      2356\n",
      "\n",
      "Test auc_roc: 0.5976724991746452\n",
      "Test average precision: 0.046034751892137286\n"
     ]
    }
   ],
   "source": [
    "measure(grid_search)"
   ]
  },
  {
   "cell_type": "markdown",
   "metadata": {},
   "source": [
    "## 2.3. SMOTE + Decision Tree"
   ]
  },
  {
   "cell_type": "code",
   "execution_count": 34,
   "metadata": {},
   "outputs": [
    {
     "name": "stdout",
     "output_type": "stream",
     "text": [
      "Best parameters: {'model__ccp_alpha': 1e-05, 'model__max_depth': 10, 'model__max_features': 'log2', 'model__min_samples_leaf': 60}\n",
      "Best score: 0.0945065845264614\n"
     ]
    }
   ],
   "source": [
    "model = DecisionTreeClassifier(random_state = 42)\n",
    "under = RandomUnderSampler(sampling_strategy = 0.9, random_state = 42)\n",
    "over = SMOTE(sampling_strategy = 0.5, random_state = 42)\n",
    "steps = [('over', over), ('under', under), ('model', model)]\n",
    "pipeline = Pipeline(steps = steps)\n",
    "\n",
    "parameters = {\n",
    "    'model__max_depth': [5, 10, 15], \n",
    "    'model__min_samples_leaf': [40, 50, 60], \n",
    "    'model__max_features': ['log2'], \n",
    "    'model__ccp_alpha': [0.0001, 0.00001, 0.000001]\n",
    "}\n",
    "smote_tree = GridSearchCV(\n",
    "            pipeline,\n",
    "            param_grid = parameters,\n",
    "            scoring = 'average_precision',\n",
    "            cv = 5)\n",
    "smote_tree.fit(X_train_scaled, y_train)\n",
    "print(\"Best parameters:\", smote_tree.best_params_)\n",
    "print(\"Best score:\", smote_tree.best_score_)"
   ]
  },
  {
   "cell_type": "code",
   "execution_count": 35,
   "metadata": {},
   "outputs": [
    {
     "name": "stdout",
     "output_type": "stream",
     "text": [
      "              precision    recall  f1-score   support\n",
      "\n",
      "           0       1.00      0.90      0.95      7025\n",
      "           1       0.05      0.93      0.10        40\n",
      "\n",
      "    accuracy                           0.90      7065\n",
      "   macro avg       0.53      0.91      0.52      7065\n",
      "weighted avg       0.99      0.90      0.94      7065\n",
      "\n",
      "Train Auc_roc: 0.9681832740213523\n",
      "Train average precision: 0.19327756970094187\n",
      "              precision    recall  f1-score   support\n",
      "\n",
      "           0       1.00      0.89      0.94      2330\n",
      "           1       0.06      0.65      0.11        26\n",
      "\n",
      "    accuracy                           0.89      2356\n",
      "   macro avg       0.53      0.77      0.53      2356\n",
      "weighted avg       0.99      0.89      0.93      2356\n",
      "\n",
      "Test auc_roc: 0.9022036975899639\n",
      "Test average precision: 0.09928599248308306\n"
     ]
    }
   ],
   "source": [
    "measure(smote_tree)"
   ]
  },
  {
   "cell_type": "code",
   "execution_count": 36,
   "metadata": {},
   "outputs": [
    {
     "data": {
      "image/png": "[encoded data removed]",
      "text/plain": [
       "<Figure size 640x480 with 1 Axes>"
      ]
     },
     "metadata": {},
     "output_type": "display_data"
    }
   ],
   "source": [
    "importances = smote_tree.best_estimator_.named_steps['model'].feature_importances_\n",
    "indices = np.argsort(importances)[::-1][:10]\n",
    "plt.barh(range(len(indices)), importances[indices], alpha = 0.7)\n",
    "plt.yticks(range(len(indices)), X_train.columns[indices])\n",
    "plt.xlabel(\"Feature importance\")\n",
    "plt.show()"
   ]
  },
  {
   "cell_type": "markdown",
   "metadata": {},
   "source": [
    "# 3. SVM"
   ]
  },
  {
   "cell_type": "code",
   "execution_count": 37,
   "metadata": {},
   "outputs": [
    {
     "name": "stdout",
     "output_type": "stream",
     "text": [
      "Best parameters for vanilla svm: {'C': 100, 'gamma': 'auto', 'kernel': 'rbf'}\n",
      "Best parameters for weighted data svm: {'C': 1000, 'gamma': 'scale', 'kernel': 'rbf'}\n"
     ]
    }
   ],
   "source": [
    "param_grid = {\n",
    "    'C': [10, 100, 1000],\n",
    "    'gamma': ['scale', 'auto'],\n",
    "    'kernel': ['rbf'] \n",
    "}\n",
    "\n",
    "vsvm = SVC(random_state = 42, probability=True)\n",
    "vsvm_gs = GridSearchCV(vsvm, param_grid, scoring = 'average_precision', cv = 5)\n",
    "wsvm = SVC(class_weight = 'balanced', random_state = 42, probability=True)\n",
    "wsvm_gs = GridSearchCV(wsvm, param_grid, scoring = 'average_precision', cv = 5)\n",
    "\n",
    "vsvm_gs.fit(X_train_scaled, y_train)\n",
    "wsvm_gs.fit(X_train_scaled, y_train)\n",
    "\n",
    "# Output the best parameters and the best score\n",
    "print(\"Best parameters for vanilla svm:\", vsvm_gs.best_params_)\n",
    "print(\"Best parameters for weighted data svm:\", wsvm_gs.best_params_)"
   ]
  },
  {
   "cell_type": "markdown",
   "metadata": {},
   "source": [
    "## 3.1 vanilla SVM"
   ]
  },
  {
   "cell_type": "code",
   "execution_count": 38,
   "metadata": {
    "scrolled": true
   },
   "outputs": [
    {
     "name": "stdout",
     "output_type": "stream",
     "text": [
      "              precision    recall  f1-score   support\n",
      "\n",
      "           0       1.00      1.00      1.00      7025\n",
      "           1       1.00      0.20      0.33        40\n",
      "\n",
      "    accuracy                           1.00      7065\n",
      "   macro avg       1.00      0.60      0.67      7065\n",
      "weighted avg       1.00      1.00      0.99      7065\n",
      "\n",
      "Train Auc_roc: 0.9907562277580071\n",
      "Train average precision: 0.7783347569230757\n",
      "              precision    recall  f1-score   support\n",
      "\n",
      "           0       0.99      1.00      0.99      2330\n",
      "           1       0.00      0.00      0.00        26\n",
      "\n",
      "    accuracy                           0.99      2356\n",
      "   macro avg       0.49      0.50      0.50      2356\n",
      "weighted avg       0.98      0.99      0.98      2356\n",
      "\n",
      "Test auc_roc: 0.934450313634863\n",
      "Test average precision: 0.26312861737387055\n"
     ]
    }
   ],
   "source": [
    "measure(vsvm_gs)"
   ]
  },
  {
   "cell_type": "markdown",
   "metadata": {},
   "source": [
    "## 3.2. weighted data SVM"
   ]
  },
  {
   "cell_type": "code",
   "execution_count": 39,
   "metadata": {},
   "outputs": [
    {
     "name": "stdout",
     "output_type": "stream",
     "text": [
      "              precision    recall  f1-score   support\n",
      "\n",
      "           0       1.00      1.00      1.00      7025\n",
      "           1       0.75      1.00      0.86        40\n",
      "\n",
      "    accuracy                           1.00      7065\n",
      "   macro avg       0.88      1.00      0.93      7065\n",
      "weighted avg       1.00      1.00      1.00      7065\n",
      "\n",
      "Train Auc_roc: 0.9994644128113879\n",
      "Train average precision: 0.8177458762970138\n",
      "              precision    recall  f1-score   support\n",
      "\n",
      "           0       0.99      1.00      0.99      2330\n",
      "           1       0.25      0.04      0.07        26\n",
      "\n",
      "    accuracy                           0.99      2356\n",
      "   macro avg       0.62      0.52      0.53      2356\n",
      "weighted avg       0.98      0.99      0.98      2356\n",
      "\n",
      "Test auc_roc: 0.8256190161769561\n",
      "Test average precision: 0.13332489166815342\n"
     ]
    }
   ],
   "source": [
    "measure(wsvm_gs)"
   ]
  },
  {
   "cell_type": "markdown",
   "metadata": {},
   "source": [
    "## 3.3. SMOTE + SVM"
   ]
  },
  {
   "cell_type": "code",
   "execution_count": 40,
   "metadata": {},
   "outputs": [
    {
     "name": "stdout",
     "output_type": "stream",
     "text": [
      "Best parameters: {'model__C': 100, 'model__gamma': 'auto', 'model__kernel': 'rbf'}\n",
      "Best score: 0.1683234100511951\n"
     ]
    }
   ],
   "source": [
    "model = SVC(probability=True, random_state = 42)\n",
    "under = RandomUnderSampler(sampling_strategy = 0.9, random_state = 42)\n",
    "over = SMOTE(sampling_strategy = 0.5, random_state = 42)\n",
    "steps = [('over', over), ('under', under), ('model', model)]\n",
    "pipeline = Pipeline(steps = steps)\n",
    "\n",
    "parameters = {\n",
    "    'model__C': [10, 100, 1000],\n",
    "    'model__gamma': ['scale', 'auto'],\n",
    "    'model__kernel': ['rbf'] \n",
    "}\n",
    "smote_svm = GridSearchCV(\n",
    "            pipeline,\n",
    "            param_grid = parameters,\n",
    "            scoring = 'average_precision',\n",
    "            cv = 5)\n",
    "smote_svm.fit(X_train_scaled, y_train)\n",
    "print(\"Best parameters:\", smote_svm.best_params_)\n",
    "print(\"Best score:\", smote_svm.best_score_)"
   ]
  },
  {
   "cell_type": "code",
   "execution_count": 41,
   "metadata": {},
   "outputs": [
    {
     "name": "stdout",
     "output_type": "stream",
     "text": [
      "              precision    recall  f1-score   support\n",
      "\n",
      "           0       1.00      0.99      1.00      7025\n",
      "           1       0.32      0.57      0.41        40\n",
      "\n",
      "    accuracy                           0.99      7065\n",
      "   macro avg       0.66      0.78      0.70      7065\n",
      "weighted avg       0.99      0.99      0.99      7065\n",
      "\n",
      "Train Auc_roc: 0.9833434163701067\n",
      "Train average precision: 0.466430362844432\n",
      "              precision    recall  f1-score   support\n",
      "\n",
      "           0       0.99      0.99      0.99      2330\n",
      "           1       0.06      0.04      0.05        26\n",
      "\n",
      "    accuracy                           0.98      2356\n",
      "   macro avg       0.53      0.52      0.52      2356\n",
      "weighted avg       0.98      0.98      0.98      2356\n",
      "\n",
      "Test auc_roc: 0.8775668537471113\n",
      "Test average precision: 0.13662298784306423\n"
     ]
    }
   ],
   "source": [
    "measure(smote_svm)"
   ]
  },
  {
   "cell_type": "markdown",
   "metadata": {},
   "source": [
    "# 4. Easy Ensemble Classifier"
   ]
  },
  {
   "cell_type": "code",
   "execution_count": 42,
   "metadata": {},
   "outputs": [],
   "source": [
    "eec = EasyEnsembleClassifier(random_state=42)"
   ]
  },
  {
   "cell_type": "code",
   "execution_count": 43,
   "metadata": {},
   "outputs": [
    {
     "data": {
      "text/html": [
       "<style>#sk-container-id-2 {color: black;}#sk-container-id-2 pre{padding: 0;}#sk-container-id-2 div.sk-toggleable {background-color: white;}#sk-container-id-2 label.sk-toggleable__label {cursor: pointer;display: block;width: 100%;margin-bottom: 0;padding: 0.3em;box-sizing: border-box;text-align: center;}#sk-container-id-2 label.sk-toggleable__label-arrow:before {content: \"▸\";float: left;margin-right: 0.25em;color: #696969;}#sk-container-id-2 label.sk-toggleable__label-arrow:hover:before {color: black;}#sk-container-id-2 div.sk-estimator:hover label.sk-toggleable__label-arrow:before {color: black;}#sk-container-id-2 div.sk-toggleable__content {max-height: 0;max-width: 0;overflow: hidden;text-align: left;background-color: #f0f8ff;}#sk-container-id-2 div.sk-toggleable__content pre {margin: 0.2em;color: black;border-radius: 0.25em;background-color: #f0f8ff;}#sk-container-id-2 input.sk-toggleable__control:checked~div.sk-toggleable__content {max-height: 200px;max-width: 100%;overflow: auto;}#sk-container-id-2 input.sk-toggleable__control:checked~label.sk-toggleable__label-arrow:before {content: \"▾\";}#sk-container-id-2 div.sk-estimator input.sk-toggleable__control:checked~label.sk-toggleable__label {background-color: #d4ebff;}#sk-container-id-2 div.sk-label input.sk-toggleable__control:checked~label.sk-toggleable__label {background-color: #d4ebff;}#sk-container-id-2 input.sk-hidden--visually {border: 0;clip: rect(1px 1px 1px 1px);clip: rect(1px, 1px, 1px, 1px);height: 1px;margin: -1px;overflow: hidden;padding: 0;position: absolute;width: 1px;}#sk-container-id-2 div.sk-estimator {font-family: monospace;background-color: #f0f8ff;border: 1px dotted black;border-radius: 0.25em;box-sizing: border-box;margin-bottom: 0.5em;}#sk-container-id-2 div.sk-estimator:hover {background-color: #d4ebff;}#sk-container-id-2 div.sk-parallel-item::after {content: \"\";width: 100%;border-bottom: 1px solid gray;flex-grow: 1;}#sk-container-id-2 div.sk-label:hover label.sk-toggleable__label {background-color: #d4ebff;}#sk-container-id-2 div.sk-serial::before {content: \"\";position: absolute;border-left: 1px solid gray;box-sizing: border-box;top: 0;bottom: 0;left: 50%;z-index: 0;}#sk-container-id-2 div.sk-serial {display: flex;flex-direction: column;align-items: center;background-color: white;padding-right: 0.2em;padding-left: 0.2em;position: relative;}#sk-container-id-2 div.sk-item {position: relative;z-index: 1;}#sk-container-id-2 div.sk-parallel {display: flex;align-items: stretch;justify-content: center;background-color: white;position: relative;}#sk-container-id-2 div.sk-item::before, #sk-container-id-2 div.sk-parallel-item::before {content: \"\";position: absolute;border-left: 1px solid gray;box-sizing: border-box;top: 0;bottom: 0;left: 50%;z-index: -1;}#sk-container-id-2 div.sk-parallel-item {display: flex;flex-direction: column;z-index: 1;position: relative;background-color: white;}#sk-container-id-2 div.sk-parallel-item:first-child::after {align-self: flex-end;width: 50%;}#sk-container-id-2 div.sk-parallel-item:last-child::after {align-self: flex-start;width: 50%;}#sk-container-id-2 div.sk-parallel-item:only-child::after {width: 0;}#sk-container-id-2 div.sk-dashed-wrapped {border: 1px dashed gray;margin: 0 0.4em 0.5em 0.4em;box-sizing: border-box;padding-bottom: 0.4em;background-color: white;}#sk-container-id-2 div.sk-label label {font-family: monospace;font-weight: bold;display: inline-block;line-height: 1.2em;}#sk-container-id-2 div.sk-label-container {text-align: center;}#sk-container-id-2 div.sk-container {/* jupyter's `normalize.less` sets `[hidden] { display: none; }` but bootstrap.min.css set `[hidden] { display: none !important; }` so we also need the `!important` here to be able to override the default hidden behavior on the sphinx rendered scikit-learn.org. See: https://github.com/scikit-learn/scikit-learn/issues/21755 */display: inline-block !important;position: relative;}#sk-container-id-2 div.sk-text-repr-fallback {display: none;}</style><div id=\"sk-container-id-2\" class=\"sk-top-container\"><div class=\"sk-text-repr-fallback\"><pre>EasyEnsembleClassifier(random_state=42)</pre><b>In a Jupyter environment, please rerun this cell to show the HTML representation or trust the notebook. <br />On GitHub, the HTML representation is unable to render, please try loading this page with nbviewer.org.</b></div><div class=\"sk-container\" hidden><div class=\"sk-item\"><div class=\"sk-estimator sk-toggleable\"><input class=\"sk-toggleable__control sk-hidden--visually\" id=\"sk-estimator-id-5\" type=\"checkbox\" checked><label for=\"sk-estimator-id-5\" class=\"sk-toggleable__label sk-toggleable__label-arrow\">EasyEnsembleClassifier</label><div class=\"sk-toggleable__content\"><pre>EasyEnsembleClassifier(random_state=42)</pre></div></div></div></div></div>"
      ],
      "text/plain": [
       "EasyEnsembleClassifier(random_state=42)"
      ]
     },
     "execution_count": 43,
     "metadata": {},
     "output_type": "execute_result"
    }
   ],
   "source": [
    "eec.fit(X_train_scaled, y_train)"
   ]
  },
  {
   "cell_type": "code",
   "execution_count": 44,
   "metadata": {},
   "outputs": [
    {
     "name": "stdout",
     "output_type": "stream",
     "text": [
      "              precision    recall  f1-score   support\n",
      "\n",
      "           0       1.00      0.87      0.93      7025\n",
      "           1       0.04      1.00      0.08        40\n",
      "\n",
      "    accuracy                           0.87      7065\n",
      "   macro avg       0.52      0.94      0.51      7065\n",
      "weighted avg       0.99      0.87      0.93      7065\n",
      "\n",
      "Train Auc_roc: 0.9904857651245552\n",
      "Train average precision: 0.35031490348975963\n",
      "              precision    recall  f1-score   support\n",
      "\n",
      "           0       1.00      0.88      0.93      2330\n",
      "           1       0.07      0.85      0.13        26\n",
      "\n",
      "    accuracy                           0.88      2356\n",
      "   macro avg       0.53      0.86      0.53      2356\n",
      "weighted avg       0.99      0.88      0.92      2356\n",
      "\n",
      "Test auc_roc: 0.952641135688346\n",
      "Test average precision: 0.2868326521139267\n"
     ]
    }
   ],
   "source": [
    "measure(eec)"
   ]
  },
  {
   "cell_type": "code",
   "execution_count": null,
   "metadata": {},
   "outputs": [],
   "source": []
  }
 ],
 "metadata": {
  "kernelspec": {
   "display_name": "Python 3 (ipykernel)",
   "language": "python",
   "name": "python3"
  },
  "language_info": {
   "codemirror_mode": {
    "name": "ipython",
    "version": 3
   },
   "file_extension": ".py",
   "mimetype": "text/x-python",
   "name": "python",
   "nbconvert_exporter": "python",
   "pygments_lexer": "ipython3",
   "version": "3.9.18"
  }
 },
 "nbformat": 4,
 "nbformat_minor": 4
}
