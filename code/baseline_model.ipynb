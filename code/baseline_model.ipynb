{
 "cells": [
  {
   "cell_type": "markdown",
   "metadata": {},
   "source": [
    "# Baseline Models"
   ]
  },
  {
   "cell_type": "code",
   "execution_count": 32,
   "metadata": {},
   "outputs": [],
   "source": [
    "from sklearn.model_selection import train_test_split\n",
    "from sklearn.linear_model import LogisticRegression\n",
    "from sklearn.tree import DecisionTreeClassifier\n",
    "from sklearn.svm import SVC\n",
    "from sklearn import tree\n",
    "from sklearn.metrics import roc_auc_score\n",
    "from sklearn.metrics import classification_report\n",
    "from sklearn.preprocessing import StandardScaler\n",
    "from sklearn.model_selection import GridSearchCV\n",
    "from sklearn.metrics import average_precision_score, RocCurveDisplay, roc_curve\n",
    "from sklearn import metrics\n",
    "\n",
    "import numpy as np\n",
    "import pandas as pd\n",
    "import matplotlib.pyplot as plt\n",
    "\n",
    "from collections import Counter\n",
    "from imblearn.over_sampling import SMOTE\n",
    "from imblearn.under_sampling import RandomUnderSampler\n",
    "from imblearn.ensemble import EasyEnsembleClassifier\n",
    "from imblearn.pipeline import Pipeline"
   ]
  },
  {
   "cell_type": "code",
   "execution_count": 33,
   "metadata": {},
   "outputs": [],
   "source": [
    "data = pd.read_csv('../data/data_items.csv')"
   ]
  },
  {
   "cell_type": "code",
   "execution_count": 36,
   "metadata": {},
   "outputs": [],
   "source": [
    "# Drop irrelevant columns\n",
    "y = data['bank_status']\n",
    "X = data.drop(columns = ['cik', 'sic', 'sic_description', 'filedate', 'accession_num',\n",
    "       'primary_doc', 'filelink', 'bank_status', 'item_1A', 'item_2', 'item_7'])"
   ]
  },
  {
   "cell_type": "code",
   "execution_count": 37,
   "metadata": {},
   "outputs": [],
   "source": [
    "# Create dummy variables for industry and year\n",
    "X_with_dummies = pd.get_dummies(X, columns = ['main_industry', 'year'])"
   ]
  },
  {
   "cell_type": "code",
   "execution_count": 38,
   "metadata": {},
   "outputs": [],
   "source": [
    "# Split training and testing data\n",
    "X_train, X_test, y_train, y_test = train_test_split(X_with_dummies, y, test_size = 0.25, random_state = 42)"
   ]
  },
  {
   "cell_type": "code",
   "execution_count": 40,
   "metadata": {},
   "outputs": [],
   "source": [
    "# Standardization\n",
    "scaler = StandardScaler().fit(X_train.iloc[:, 0:23])\n",
    "scaled_terms_train = pd.DataFrame(scaler.transform(X_train.iloc[:, 0:23]), columns = X_train.columns[0:23])\n",
    "X_train_scaled = pd.concat([scaled_terms_train, X_train.iloc[:,23:].reset_index(drop = True)], axis = 1)\n",
    "scaled_terms_test = pd.DataFrame(scaler.transform(X_test.iloc[:, 0:23]), columns = X_test.columns[0:23])\n",
    "X_test_scaled = pd.concat([scaled_terms_test, X_test.iloc[:,23:].reset_index(drop = True)], axis = 1)"
   ]
  },
  {
   "cell_type": "code",
   "execution_count": 41,
   "metadata": {},
   "outputs": [],
   "source": [
    "def measure(clf):\n",
    "    y_pred_test = clf.predict(X_test_scaled)\n",
    "    y_pred_prob_test = clf.predict_proba(X_test_scaled)[:,1]\n",
    "    y_pred_train = clf.predict(X_train_scaled)\n",
    "    y_pred_prob_train = clf.predict_proba(X_train_scaled)[:,1]\n",
    "\n",
    "    print(classification_report(y_train, y_pred_train))\n",
    "    print(\"Train Auc_roc:\", roc_auc_score(y_train, y_pred_prob_train))\n",
    "    print(\"Train average precision:\", average_precision_score(y_train, y_pred_prob_train))\n",
    "\n",
    "    print(classification_report(y_test, y_pred_test))\n",
    "    print(\"Test auc_roc:\", roc_auc_score(y_test, y_pred_prob_test))\n",
    "    print(\"Test average precision:\", average_precision_score(y_test, y_pred_prob_test))"
   ]
  },
  {
   "cell_type": "markdown",
   "metadata": {},
   "source": [
    "# 1. Logistic Regression"
   ]
  },
  {
   "cell_type": "markdown",
   "metadata": {},
   "source": [
    "## 1.1. vanilla"
   ]
  },
  {
   "cell_type": "code",
   "execution_count": 42,
   "metadata": {
    "scrolled": true
   },
   "outputs": [
    {
     "name": "stdout",
     "output_type": "stream",
     "text": [
      "              precision    recall  f1-score   support\n",
      "\n",
      "           0       0.99      1.00      1.00      7238\n",
      "           1       1.00      0.02      0.04        45\n",
      "\n",
      "    accuracy                           0.99      7283\n",
      "   macro avg       1.00      0.51      0.52      7283\n",
      "weighted avg       0.99      0.99      0.99      7283\n",
      "\n",
      "Train Auc_roc: 0.899415123883209\n",
      "Train average precision: 0.12198836507908903\n",
      "              precision    recall  f1-score   support\n",
      "\n",
      "           0       0.99      1.00      0.99      2405\n",
      "           1       0.00      0.00      0.00        23\n",
      "\n",
      "    accuracy                           0.99      2428\n",
      "   macro avg       0.50      0.50      0.50      2428\n",
      "weighted avg       0.98      0.99      0.99      2428\n",
      "\n",
      "Test auc_roc: 0.8386875169483865\n",
      "Test average precision: 0.05918683295994269\n"
     ]
    }
   ],
   "source": [
    "vlr = LogisticRegression(max_iter = 1000, fit_intercept = False)\n",
    "vlr.fit(X_train_scaled, y_train)\n",
    "measure(vlr)"
   ]
  },
  {
   "cell_type": "markdown",
   "metadata": {},
   "source": [
    "## 1.2. Weighted data"
   ]
  },
  {
   "cell_type": "code",
   "execution_count": 43,
   "metadata": {
    "scrolled": true
   },
   "outputs": [
    {
     "name": "stdout",
     "output_type": "stream",
     "text": [
      "              precision    recall  f1-score   support\n",
      "\n",
      "           0       1.00      0.87      0.93      7238\n",
      "           1       0.04      0.93      0.08        45\n",
      "\n",
      "    accuracy                           0.87      7283\n",
      "   macro avg       0.52      0.90      0.50      7283\n",
      "weighted avg       0.99      0.87      0.92      7283\n",
      "\n",
      "Train Auc_roc: 0.9432240336495656\n",
      "Train average precision: 0.07052612414532425\n",
      "              precision    recall  f1-score   support\n",
      "\n",
      "           0       1.00      0.86      0.92      2405\n",
      "           1       0.04      0.57      0.07        23\n",
      "\n",
      "    accuracy                           0.86      2428\n",
      "   macro avg       0.52      0.71      0.50      2428\n",
      "weighted avg       0.99      0.86      0.92      2428\n",
      "\n",
      "Test auc_roc: 0.8764711199493808\n",
      "Test average precision: 0.07541017924456514\n"
     ]
    }
   ],
   "source": [
    "wlr = LogisticRegression(max_iter = 1000, fit_intercept = False, class_weight='balanced')\n",
    "wlr.fit(X_train_scaled, y_train)\n",
    "measure(wlr)"
   ]
  },
  {
   "cell_type": "markdown",
   "metadata": {},
   "source": [
    "## 1.3. SMOTE + Logistic Regression"
   ]
  },
  {
   "cell_type": "code",
   "execution_count": 44,
   "metadata": {},
   "outputs": [
    {
     "data": {
      "text/html": [
       "<style>#sk-container-id-2 {color: black;}#sk-container-id-2 pre{padding: 0;}#sk-container-id-2 div.sk-toggleable {background-color: white;}#sk-container-id-2 label.sk-toggleable__label {cursor: pointer;display: block;width: 100%;margin-bottom: 0;padding: 0.3em;box-sizing: border-box;text-align: center;}#sk-container-id-2 label.sk-toggleable__label-arrow:before {content: \"▸\";float: left;margin-right: 0.25em;color: #696969;}#sk-container-id-2 label.sk-toggleable__label-arrow:hover:before {color: black;}#sk-container-id-2 div.sk-estimator:hover label.sk-toggleable__label-arrow:before {color: black;}#sk-container-id-2 div.sk-toggleable__content {max-height: 0;max-width: 0;overflow: hidden;text-align: left;background-color: #f0f8ff;}#sk-container-id-2 div.sk-toggleable__content pre {margin: 0.2em;color: black;border-radius: 0.25em;background-color: #f0f8ff;}#sk-container-id-2 input.sk-toggleable__control:checked~div.sk-toggleable__content {max-height: 200px;max-width: 100%;overflow: auto;}#sk-container-id-2 input.sk-toggleable__control:checked~label.sk-toggleable__label-arrow:before {content: \"▾\";}#sk-container-id-2 div.sk-estimator input.sk-toggleable__control:checked~label.sk-toggleable__label {background-color: #d4ebff;}#sk-container-id-2 div.sk-label input.sk-toggleable__control:checked~label.sk-toggleable__label {background-color: #d4ebff;}#sk-container-id-2 input.sk-hidden--visually {border: 0;clip: rect(1px 1px 1px 1px);clip: rect(1px, 1px, 1px, 1px);height: 1px;margin: -1px;overflow: hidden;padding: 0;position: absolute;width: 1px;}#sk-container-id-2 div.sk-estimator {font-family: monospace;background-color: #f0f8ff;border: 1px dotted black;border-radius: 0.25em;box-sizing: border-box;margin-bottom: 0.5em;}#sk-container-id-2 div.sk-estimator:hover {background-color: #d4ebff;}#sk-container-id-2 div.sk-parallel-item::after {content: \"\";width: 100%;border-bottom: 1px solid gray;flex-grow: 1;}#sk-container-id-2 div.sk-label:hover label.sk-toggleable__label {background-color: #d4ebff;}#sk-container-id-2 div.sk-serial::before {content: \"\";position: absolute;border-left: 1px solid gray;box-sizing: border-box;top: 0;bottom: 0;left: 50%;z-index: 0;}#sk-container-id-2 div.sk-serial {display: flex;flex-direction: column;align-items: center;background-color: white;padding-right: 0.2em;padding-left: 0.2em;position: relative;}#sk-container-id-2 div.sk-item {position: relative;z-index: 1;}#sk-container-id-2 div.sk-parallel {display: flex;align-items: stretch;justify-content: center;background-color: white;position: relative;}#sk-container-id-2 div.sk-item::before, #sk-container-id-2 div.sk-parallel-item::before {content: \"\";position: absolute;border-left: 1px solid gray;box-sizing: border-box;top: 0;bottom: 0;left: 50%;z-index: -1;}#sk-container-id-2 div.sk-parallel-item {display: flex;flex-direction: column;z-index: 1;position: relative;background-color: white;}#sk-container-id-2 div.sk-parallel-item:first-child::after {align-self: flex-end;width: 50%;}#sk-container-id-2 div.sk-parallel-item:last-child::after {align-self: flex-start;width: 50%;}#sk-container-id-2 div.sk-parallel-item:only-child::after {width: 0;}#sk-container-id-2 div.sk-dashed-wrapped {border: 1px dashed gray;margin: 0 0.4em 0.5em 0.4em;box-sizing: border-box;padding-bottom: 0.4em;background-color: white;}#sk-container-id-2 div.sk-label label {font-family: monospace;font-weight: bold;display: inline-block;line-height: 1.2em;}#sk-container-id-2 div.sk-label-container {text-align: center;}#sk-container-id-2 div.sk-container {/* jupyter's `normalize.less` sets `[hidden] { display: none; }` but bootstrap.min.css set `[hidden] { display: none !important; }` so we also need the `!important` here to be able to override the default hidden behavior on the sphinx rendered scikit-learn.org. See: https://github.com/scikit-learn/scikit-learn/issues/21755 */display: inline-block !important;position: relative;}#sk-container-id-2 div.sk-text-repr-fallback {display: none;}</style><div id=\"sk-container-id-2\" class=\"sk-top-container\"><div class=\"sk-text-repr-fallback\"><pre>Pipeline(steps=[(&#x27;over&#x27;, SMOTE(random_state=42, sampling_strategy=0.5)),\n",
       "                (&#x27;under&#x27;,\n",
       "                 RandomUnderSampler(random_state=42, sampling_strategy=0.9)),\n",
       "                (&#x27;model&#x27;,\n",
       "                 LogisticRegression(fit_intercept=False, max_iter=1000))])</pre><b>In a Jupyter environment, please rerun this cell to show the HTML representation or trust the notebook. <br />On GitHub, the HTML representation is unable to render, please try loading this page with nbviewer.org.</b></div><div class=\"sk-container\" hidden><div class=\"sk-item sk-dashed-wrapped\"><div class=\"sk-label-container\"><div class=\"sk-label sk-toggleable\"><input class=\"sk-toggleable__control sk-hidden--visually\" id=\"sk-estimator-id-2\" type=\"checkbox\" ><label for=\"sk-estimator-id-2\" class=\"sk-toggleable__label sk-toggleable__label-arrow\">Pipeline</label><div class=\"sk-toggleable__content\"><pre>Pipeline(steps=[(&#x27;over&#x27;, SMOTE(random_state=42, sampling_strategy=0.5)),\n",
       "                (&#x27;under&#x27;,\n",
       "                 RandomUnderSampler(random_state=42, sampling_strategy=0.9)),\n",
       "                (&#x27;model&#x27;,\n",
       "                 LogisticRegression(fit_intercept=False, max_iter=1000))])</pre></div></div></div><div class=\"sk-serial\"><div class=\"sk-item\"><div class=\"sk-estimator sk-toggleable\"><input class=\"sk-toggleable__control sk-hidden--visually\" id=\"sk-estimator-id-3\" type=\"checkbox\" ><label for=\"sk-estimator-id-3\" class=\"sk-toggleable__label sk-toggleable__label-arrow\">SMOTE</label><div class=\"sk-toggleable__content\"><pre>SMOTE(random_state=42, sampling_strategy=0.5)</pre></div></div></div><div class=\"sk-item\"><div class=\"sk-estimator sk-toggleable\"><input class=\"sk-toggleable__control sk-hidden--visually\" id=\"sk-estimator-id-4\" type=\"checkbox\" ><label for=\"sk-estimator-id-4\" class=\"sk-toggleable__label sk-toggleable__label-arrow\">RandomUnderSampler</label><div class=\"sk-toggleable__content\"><pre>RandomUnderSampler(random_state=42, sampling_strategy=0.9)</pre></div></div></div><div class=\"sk-item\"><div class=\"sk-estimator sk-toggleable\"><input class=\"sk-toggleable__control sk-hidden--visually\" id=\"sk-estimator-id-5\" type=\"checkbox\" ><label for=\"sk-estimator-id-5\" class=\"sk-toggleable__label sk-toggleable__label-arrow\">LogisticRegression</label><div class=\"sk-toggleable__content\"><pre>LogisticRegression(fit_intercept=False, max_iter=1000)</pre></div></div></div></div></div></div></div>"
      ],
      "text/plain": [
       "Pipeline(steps=[('over', SMOTE(random_state=42, sampling_strategy=0.5)),\n",
       "                ('under',\n",
       "                 RandomUnderSampler(random_state=42, sampling_strategy=0.9)),\n",
       "                ('model',\n",
       "                 LogisticRegression(fit_intercept=False, max_iter=1000))])"
      ]
     },
     "execution_count": 44,
     "metadata": {},
     "output_type": "execute_result"
    }
   ],
   "source": [
    "model = LogisticRegression(max_iter = 1000, fit_intercept = False)\n",
    "under = RandomUnderSampler(sampling_strategy = 0.9, random_state = 42)\n",
    "over = SMOTE(sampling_strategy = 0.5, random_state = 42)\n",
    "steps = [('over', over), ('under', under), ('model', model)]\n",
    "smote_lr = Pipeline(steps = steps)\n",
    "smote_lr.fit(X_train_scaled, y_train)"
   ]
  },
  {
   "cell_type": "code",
   "execution_count": 45,
   "metadata": {
    "scrolled": false
   },
   "outputs": [
    {
     "name": "stdout",
     "output_type": "stream",
     "text": [
      "              precision    recall  f1-score   support\n",
      "\n",
      "           0       1.00      0.86      0.93      7238\n",
      "           1       0.04      0.87      0.07        45\n",
      "\n",
      "    accuracy                           0.86      7283\n",
      "   macro avg       0.52      0.87      0.50      7283\n",
      "weighted avg       0.99      0.86      0.92      7283\n",
      "\n",
      "Train Auc_roc: 0.9321743268551779\n",
      "Train average precision: 0.08514420055792328\n",
      "              precision    recall  f1-score   support\n",
      "\n",
      "           0       1.00      0.86      0.92      2405\n",
      "           1       0.04      0.57      0.07        23\n",
      "\n",
      "    accuracy                           0.86      2428\n",
      "   macro avg       0.52      0.71      0.50      2428\n",
      "weighted avg       0.99      0.86      0.91      2428\n",
      "\n",
      "Test auc_roc: 0.8569104221278134\n",
      "Test average precision: 0.07590958748209238\n"
     ]
    }
   ],
   "source": [
    "measure(smote_lr)"
   ]
  },
  {
   "cell_type": "markdown",
   "metadata": {},
   "source": [
    "# 2. Decision Tree"
   ]
  },
  {
   "cell_type": "code",
   "execution_count": 46,
   "metadata": {
    "scrolled": true
   },
   "outputs": [
    {
     "name": "stdout",
     "output_type": "stream",
     "text": [
      "Best parameters for vanilla tree: {'ccp_alpha': 0.0001, 'max_depth': 15, 'max_features': 'log2', 'min_samples_leaf': 10}\n",
      "Best parameters: {'ccp_alpha': 0.001, 'max_depth': 20, 'max_features': 'log2', 'min_samples_leaf': 5}\n"
     ]
    }
   ],
   "source": [
    "parameters = {\n",
    "    'max_depth': [10, 15, 20, 25, 30], \n",
    "    'min_samples_leaf': [5, 10, 20, 30], \n",
    "    'max_features': ['sqrt', 'log2'], \n",
    "    'ccp_alpha': [0.01, 0.001, 0.0001, 0.00001]\n",
    "}\n",
    "vanilla_tree = GridSearchCV(\n",
    "            estimator = tree.DecisionTreeClassifier(random_state = 42),\n",
    "            param_grid = parameters,\n",
    "            scoring = 'average_precision',\n",
    "            cv = 5)\n",
    "vanilla_tree.fit(X_train_scaled, y_train)\n",
    "\n",
    "grid_search = GridSearchCV(\n",
    "            estimator = tree.DecisionTreeClassifier(class_weight = 'balanced', random_state = 42),\n",
    "            param_grid = parameters,\n",
    "            scoring = 'average_precision',\n",
    "            cv = 5)\n",
    "grid_search.fit(X_train_scaled, y_train)\n",
    "\n",
    "print(\"Best parameters for vanilla tree:\", vanilla_tree.best_params_)\n",
    "print(\"Best parameters:\", grid_search.best_params_)"
   ]
  },
  {
   "cell_type": "markdown",
   "metadata": {},
   "source": [
    "## 2.1. vanilla tree"
   ]
  },
  {
   "cell_type": "code",
   "execution_count": 47,
   "metadata": {},
   "outputs": [
    {
     "name": "stdout",
     "output_type": "stream",
     "text": [
      "              precision    recall  f1-score   support\n",
      "\n",
      "           0       0.99      1.00      1.00      7238\n",
      "           1       0.00      0.00      0.00        45\n",
      "\n",
      "    accuracy                           0.99      7283\n",
      "   macro avg       0.50      0.50      0.50      7283\n",
      "weighted avg       0.99      0.99      0.99      7283\n",
      "\n",
      "Train Auc_roc: 0.8183322587577906\n",
      "Train average precision: 0.17330213420366825\n",
      "              precision    recall  f1-score   support\n",
      "\n",
      "           0       0.99      1.00      1.00      2405\n",
      "           1       0.00      0.00      0.00        23\n",
      "\n",
      "    accuracy                           0.99      2428\n",
      "   macro avg       0.50      0.50      0.50      2428\n",
      "weighted avg       0.98      0.99      0.99      2428\n",
      "\n",
      "Test auc_roc: 0.5783603000994305\n",
      "Test average precision: 0.038233065108852146\n"
     ]
    },
    {
     "name": "stderr",
     "output_type": "stream",
     "text": [
      "/Users/haodong/opt/anaconda3/lib/python3.9/site-packages/sklearn/metrics/_classification.py:1469: UndefinedMetricWarning: Precision and F-score are ill-defined and being set to 0.0 in labels with no predicted samples. Use `zero_division` parameter to control this behavior.\n",
      "  _warn_prf(average, modifier, msg_start, len(result))\n",
      "/Users/haodong/opt/anaconda3/lib/python3.9/site-packages/sklearn/metrics/_classification.py:1469: UndefinedMetricWarning: Precision and F-score are ill-defined and being set to 0.0 in labels with no predicted samples. Use `zero_division` parameter to control this behavior.\n",
      "  _warn_prf(average, modifier, msg_start, len(result))\n",
      "/Users/haodong/opt/anaconda3/lib/python3.9/site-packages/sklearn/metrics/_classification.py:1469: UndefinedMetricWarning: Precision and F-score are ill-defined and being set to 0.0 in labels with no predicted samples. Use `zero_division` parameter to control this behavior.\n",
      "  _warn_prf(average, modifier, msg_start, len(result))\n",
      "/Users/haodong/opt/anaconda3/lib/python3.9/site-packages/sklearn/metrics/_classification.py:1469: UndefinedMetricWarning: Precision and F-score are ill-defined and being set to 0.0 in labels with no predicted samples. Use `zero_division` parameter to control this behavior.\n",
      "  _warn_prf(average, modifier, msg_start, len(result))\n",
      "/Users/haodong/opt/anaconda3/lib/python3.9/site-packages/sklearn/metrics/_classification.py:1469: UndefinedMetricWarning: Precision and F-score are ill-defined and being set to 0.0 in labels with no predicted samples. Use `zero_division` parameter to control this behavior.\n",
      "  _warn_prf(average, modifier, msg_start, len(result))\n",
      "/Users/haodong/opt/anaconda3/lib/python3.9/site-packages/sklearn/metrics/_classification.py:1469: UndefinedMetricWarning: Precision and F-score are ill-defined and being set to 0.0 in labels with no predicted samples. Use `zero_division` parameter to control this behavior.\n",
      "  _warn_prf(average, modifier, msg_start, len(result))\n"
     ]
    }
   ],
   "source": [
    "measure(vanilla_tree)"
   ]
  },
  {
   "cell_type": "markdown",
   "metadata": {},
   "source": [
    "## 2.2. weighted data tree"
   ]
  },
  {
   "cell_type": "code",
   "execution_count": 50,
   "metadata": {},
   "outputs": [
    {
     "name": "stdout",
     "output_type": "stream",
     "text": [
      "              precision    recall  f1-score   support\n",
      "\n",
      "           0       1.00      0.98      0.99      7238\n",
      "           1       0.25      1.00      0.40        45\n",
      "\n",
      "    accuracy                           0.98      7283\n",
      "   macro avg       0.63      0.99      0.70      7283\n",
      "weighted avg       1.00      0.98      0.99      7283\n",
      "\n",
      "Train Auc_roc: 0.9938012342267661\n",
      "Train average precision: 0.36728510550752513\n",
      "              precision    recall  f1-score   support\n",
      "\n",
      "           0       1.00      0.98      0.99      2405\n",
      "           1       0.18      0.52      0.26        23\n",
      "\n",
      "    accuracy                           0.97      2428\n",
      "   macro avg       0.59      0.75      0.62      2428\n",
      "weighted avg       0.99      0.97      0.98      2428\n",
      "\n",
      "Test auc_roc: 0.7509717074934468\n",
      "Test average precision: 0.17066542976399002\n"
     ]
    }
   ],
   "source": [
    "measure(grid_search)"
   ]
  },
  {
   "cell_type": "markdown",
   "metadata": {},
   "source": [
    "## 2.3. SMOTE + Decision Tree"
   ]
  },
  {
   "cell_type": "code",
   "execution_count": 51,
   "metadata": {},
   "outputs": [
    {
     "name": "stdout",
     "output_type": "stream",
     "text": [
      "Best parameters: {'model__ccp_alpha': 0.0001, 'model__max_depth': 10, 'model__max_features': 'log2', 'model__min_samples_leaf': 40}\n",
      "Best score: 0.11214765997591096\n"
     ]
    }
   ],
   "source": [
    "model = DecisionTreeClassifier(random_state = 42)\n",
    "under = RandomUnderSampler(sampling_strategy = 0.9, random_state = 42)\n",
    "over = SMOTE(sampling_strategy = 0.5, random_state = 42)\n",
    "steps = [('over', over), ('under', under), ('model', model)]\n",
    "pipeline = Pipeline(steps = steps)\n",
    "\n",
    "parameters = {\n",
    "    'model__max_depth': [5, 10, 15], \n",
    "    'model__min_samples_leaf': [40, 50, 60], \n",
    "    'model__max_features': ['log2'], \n",
    "    'model__ccp_alpha': [0.0001, 0.00001, 0.000001]\n",
    "}\n",
    "smote_tree = GridSearchCV(\n",
    "            pipeline,\n",
    "            param_grid = parameters,\n",
    "            scoring = 'average_precision',\n",
    "            cv = 5)\n",
    "smote_tree.fit(X_train_scaled, y_train)\n",
    "print(\"Best parameters:\", smote_tree.best_params_)\n",
    "print(\"Best score:\", smote_tree.best_score_)"
   ]
  },
  {
   "cell_type": "code",
   "execution_count": 52,
   "metadata": {},
   "outputs": [
    {
     "name": "stdout",
     "output_type": "stream",
     "text": [
      "              precision    recall  f1-score   support\n",
      "\n",
      "           0       1.00      0.95      0.98      7238\n",
      "           1       0.11      0.91      0.20        45\n",
      "\n",
      "    accuracy                           0.95      7283\n",
      "   macro avg       0.56      0.93      0.59      7283\n",
      "weighted avg       0.99      0.95      0.97      7283\n",
      "\n",
      "Train Auc_roc: 0.981873445703233\n",
      "Train average precision: 0.263427212448268\n",
      "              precision    recall  f1-score   support\n",
      "\n",
      "           0       1.00      0.95      0.97      2405\n",
      "           1       0.10      0.61      0.18        23\n",
      "\n",
      "    accuracy                           0.95      2428\n",
      "   macro avg       0.55      0.78      0.57      2428\n",
      "weighted avg       0.99      0.95      0.96      2428\n",
      "\n",
      "Test auc_roc: 0.8580855102594233\n",
      "Test average precision: 0.1780829368260622\n"
     ]
    }
   ],
   "source": [
    "measure(smote_tree)"
   ]
  },
  {
   "cell_type": "code",
   "execution_count": 53,
   "metadata": {},
   "outputs": [
    {
     "data": {
      "image/png": "[encoded data removed]",
      "text/plain": [
       "<Figure size 640x480 with 1 Axes>"
      ]
     },
     "metadata": {},
     "output_type": "display_data"
    }
   ],
   "source": [
    "importances = smote_tree.best_estimator_.named_steps['model'].feature_importances_\n",
    "indices = np.argsort(importances)[::-1][:10]\n",
    "plt.barh(range(len(indices)), importances[indices], alpha = 0.7)\n",
    "plt.yticks(range(len(indices)), X_train.columns[indices])\n",
    "plt.xlabel(\"Feature importance\")\n",
    "plt.show()"
   ]
  },
  {
   "cell_type": "markdown",
   "metadata": {},
   "source": [
    "# 3. SVM"
   ]
  },
  {
   "cell_type": "code",
   "execution_count": 54,
   "metadata": {},
   "outputs": [
    {
     "name": "stdout",
     "output_type": "stream",
     "text": [
      "Best parameters for vanilla svm: {'C': 100, 'gamma': 'auto', 'kernel': 'rbf'}\n",
      "Best parameters for weighted data svm: {'C': 100, 'gamma': 'scale', 'kernel': 'rbf'}\n"
     ]
    }
   ],
   "source": [
    "param_grid = {\n",
    "    'C': [10, 100, 1000],\n",
    "    'gamma': ['scale', 'auto'],\n",
    "    'kernel': ['rbf'] \n",
    "}\n",
    "\n",
    "vsvm = SVC(random_state = 42, probability=True)\n",
    "vsvm_gs = GridSearchCV(vsvm, param_grid, scoring = 'average_precision', cv = 5)\n",
    "wsvm = SVC(class_weight = 'balanced', random_state = 42, probability=True)\n",
    "wsvm_gs = GridSearchCV(wsvm, param_grid, scoring = 'average_precision', cv = 5)\n",
    "\n",
    "vsvm_gs.fit(X_train_scaled, y_train)\n",
    "wsvm_gs.fit(X_train_scaled, y_train)\n",
    "\n",
    "# Output the best parameters and the best score\n",
    "print(\"Best parameters for vanilla svm:\", vsvm_gs.best_params_)\n",
    "print(\"Best parameters for weighted data svm:\", wsvm_gs.best_params_)"
   ]
  },
  {
   "cell_type": "markdown",
   "metadata": {},
   "source": [
    "## 3.1 vanilla SVM"
   ]
  },
  {
   "cell_type": "code",
   "execution_count": 71,
   "metadata": {
    "scrolled": true
   },
   "outputs": [
    {
     "name": "stdout",
     "output_type": "stream",
     "text": [
      "              precision    recall  f1-score   support\n",
      "\n",
      "           0       1.00      0.99      0.99      9587\n",
      "           1       0.27      1.00      0.42        46\n",
      "\n",
      "    accuracy                           0.99      9633\n",
      "   macro avg       0.63      0.99      0.71      9633\n",
      "weighted avg       1.00      0.99      0.99      9633\n",
      "\n",
      "Train Auc_roc: 0.9967256384324787\n",
      "Train average precision: 0.41720968325330565\n",
      "              precision    recall  f1-score   support\n",
      "\n",
      "           0       1.00      0.98      0.99      3186\n",
      "           1       0.19      0.50      0.27        26\n",
      "\n",
      "    accuracy                           0.98      3212\n",
      "   macro avg       0.59      0.74      0.63      3212\n",
      "weighted avg       0.99      0.98      0.98      3212\n",
      "\n",
      "Test auc_roc: 0.9307849244289922\n",
      "Test average precision: 0.28006059244714393\n"
     ]
    }
   ],
   "source": [
    "measure(vsvm_gs)"
   ]
  },
  {
   "cell_type": "markdown",
   "metadata": {},
   "source": [
    "## 3.2. weighted data SVM"
   ]
  },
  {
   "cell_type": "code",
   "execution_count": 55,
   "metadata": {},
   "outputs": [
    {
     "name": "stdout",
     "output_type": "stream",
     "text": [
      "              precision    recall  f1-score   support\n",
      "\n",
      "           0       1.00      0.99      0.99      7238\n",
      "           1       0.36      1.00      0.53        45\n",
      "\n",
      "    accuracy                           0.99      7283\n",
      "   macro avg       0.68      0.99      0.76      7283\n",
      "weighted avg       1.00      0.99      0.99      7283\n",
      "\n",
      "Train Auc_roc: 0.9981501949587056\n",
      "Train average precision: 0.6422468852407186\n",
      "              precision    recall  f1-score   support\n",
      "\n",
      "           0       0.99      0.98      0.99      2405\n",
      "           1       0.14      0.30      0.19        23\n",
      "\n",
      "    accuracy                           0.98      2428\n",
      "   macro avg       0.57      0.64      0.59      2428\n",
      "weighted avg       0.99      0.98      0.98      2428\n",
      "\n",
      "Test auc_roc: 0.927614571092832\n",
      "Test average precision: 0.1398164504034295\n"
     ]
    }
   ],
   "source": [
    "measure(wsvm_gs)"
   ]
  },
  {
   "cell_type": "markdown",
   "metadata": {},
   "source": [
    "## 3.3. SMOTE + SVM"
   ]
  },
  {
   "cell_type": "code",
   "execution_count": 56,
   "metadata": {},
   "outputs": [
    {
     "name": "stdout",
     "output_type": "stream",
     "text": [
      "Best parameters: {'model__C': 10, 'model__gamma': 'auto', 'model__kernel': 'rbf'}\n",
      "Best score: 0.21174572776083284\n"
     ]
    }
   ],
   "source": [
    "model = SVC(probability=True, random_state = 42)\n",
    "under = RandomUnderSampler(sampling_strategy = 0.9, random_state = 42)\n",
    "over = SMOTE(sampling_strategy = 0.5, random_state = 42)\n",
    "steps = [('over', over), ('under', under), ('model', model)]\n",
    "pipeline = Pipeline(steps = steps)\n",
    "\n",
    "parameters = {\n",
    "    'model__C': [10, 100, 1000],\n",
    "    'model__gamma': ['scale', 'auto'],\n",
    "    'model__kernel': ['rbf'] \n",
    "}\n",
    "smote_svm = GridSearchCV(\n",
    "            pipeline,\n",
    "            param_grid = parameters,\n",
    "            scoring = 'average_precision',\n",
    "            cv = 5)\n",
    "smote_svm.fit(X_train_scaled, y_train)\n",
    "print(\"Best parameters:\", smote_svm.best_params_)\n",
    "print(\"Best score:\", smote_svm.best_score_)"
   ]
  },
  {
   "cell_type": "code",
   "execution_count": 57,
   "metadata": {},
   "outputs": [
    {
     "name": "stdout",
     "output_type": "stream",
     "text": [
      "              precision    recall  f1-score   support\n",
      "\n",
      "           0       1.00      0.98      0.99      7238\n",
      "           1       0.21      0.71      0.32        45\n",
      "\n",
      "    accuracy                           0.98      7283\n",
      "   macro avg       0.60      0.85      0.66      7283\n",
      "weighted avg       0.99      0.98      0.99      7283\n",
      "\n",
      "Train Auc_roc: 0.9756485830953915\n",
      "Train average precision: 0.4358919552282028\n",
      "              precision    recall  f1-score   support\n",
      "\n",
      "           0       0.99      0.98      0.99      2405\n",
      "           1       0.20      0.39      0.26        23\n",
      "\n",
      "    accuracy                           0.98      2428\n",
      "   macro avg       0.59      0.69      0.63      2428\n",
      "weighted avg       0.99      0.98      0.98      2428\n",
      "\n",
      "Test auc_roc: 0.9157732983819941\n",
      "Test average precision: 0.2209916784404341\n"
     ]
    }
   ],
   "source": [
    "measure(smote_svm)"
   ]
  },
  {
   "cell_type": "markdown",
   "metadata": {},
   "source": [
    "# 4. Easy Ensemble Classifier"
   ]
  },
  {
   "cell_type": "code",
   "execution_count": 58,
   "metadata": {},
   "outputs": [],
   "source": [
    "eec = EasyEnsembleClassifier(random_state=42)"
   ]
  },
  {
   "cell_type": "code",
   "execution_count": 59,
   "metadata": {},
   "outputs": [
    {
     "data": {
      "text/html": [
       "<style>#sk-container-id-3 {color: black;}#sk-container-id-3 pre{padding: 0;}#sk-container-id-3 div.sk-toggleable {background-color: white;}#sk-container-id-3 label.sk-toggleable__label {cursor: pointer;display: block;width: 100%;margin-bottom: 0;padding: 0.3em;box-sizing: border-box;text-align: center;}#sk-container-id-3 label.sk-toggleable__label-arrow:before {content: \"▸\";float: left;margin-right: 0.25em;color: #696969;}#sk-container-id-3 label.sk-toggleable__label-arrow:hover:before {color: black;}#sk-container-id-3 div.sk-estimator:hover label.sk-toggleable__label-arrow:before {color: black;}#sk-container-id-3 div.sk-toggleable__content {max-height: 0;max-width: 0;overflow: hidden;text-align: left;background-color: #f0f8ff;}#sk-container-id-3 div.sk-toggleable__content pre {margin: 0.2em;color: black;border-radius: 0.25em;background-color: #f0f8ff;}#sk-container-id-3 input.sk-toggleable__control:checked~div.sk-toggleable__content {max-height: 200px;max-width: 100%;overflow: auto;}#sk-container-id-3 input.sk-toggleable__control:checked~label.sk-toggleable__label-arrow:before {content: \"▾\";}#sk-container-id-3 div.sk-estimator input.sk-toggleable__control:checked~label.sk-toggleable__label {background-color: #d4ebff;}#sk-container-id-3 div.sk-label input.sk-toggleable__control:checked~label.sk-toggleable__label {background-color: #d4ebff;}#sk-container-id-3 input.sk-hidden--visually {border: 0;clip: rect(1px 1px 1px 1px);clip: rect(1px, 1px, 1px, 1px);height: 1px;margin: -1px;overflow: hidden;padding: 0;position: absolute;width: 1px;}#sk-container-id-3 div.sk-estimator {font-family: monospace;background-color: #f0f8ff;border: 1px dotted black;border-radius: 0.25em;box-sizing: border-box;margin-bottom: 0.5em;}#sk-container-id-3 div.sk-estimator:hover {background-color: #d4ebff;}#sk-container-id-3 div.sk-parallel-item::after {content: \"\";width: 100%;border-bottom: 1px solid gray;flex-grow: 1;}#sk-container-id-3 div.sk-label:hover label.sk-toggleable__label {background-color: #d4ebff;}#sk-container-id-3 div.sk-serial::before {content: \"\";position: absolute;border-left: 1px solid gray;box-sizing: border-box;top: 0;bottom: 0;left: 50%;z-index: 0;}#sk-container-id-3 div.sk-serial {display: flex;flex-direction: column;align-items: center;background-color: white;padding-right: 0.2em;padding-left: 0.2em;position: relative;}#sk-container-id-3 div.sk-item {position: relative;z-index: 1;}#sk-container-id-3 div.sk-parallel {display: flex;align-items: stretch;justify-content: center;background-color: white;position: relative;}#sk-container-id-3 div.sk-item::before, #sk-container-id-3 div.sk-parallel-item::before {content: \"\";position: absolute;border-left: 1px solid gray;box-sizing: border-box;top: 0;bottom: 0;left: 50%;z-index: -1;}#sk-container-id-3 div.sk-parallel-item {display: flex;flex-direction: column;z-index: 1;position: relative;background-color: white;}#sk-container-id-3 div.sk-parallel-item:first-child::after {align-self: flex-end;width: 50%;}#sk-container-id-3 div.sk-parallel-item:last-child::after {align-self: flex-start;width: 50%;}#sk-container-id-3 div.sk-parallel-item:only-child::after {width: 0;}#sk-container-id-3 div.sk-dashed-wrapped {border: 1px dashed gray;margin: 0 0.4em 0.5em 0.4em;box-sizing: border-box;padding-bottom: 0.4em;background-color: white;}#sk-container-id-3 div.sk-label label {font-family: monospace;font-weight: bold;display: inline-block;line-height: 1.2em;}#sk-container-id-3 div.sk-label-container {text-align: center;}#sk-container-id-3 div.sk-container {/* jupyter's `normalize.less` sets `[hidden] { display: none; }` but bootstrap.min.css set `[hidden] { display: none !important; }` so we also need the `!important` here to be able to override the default hidden behavior on the sphinx rendered scikit-learn.org. See: https://github.com/scikit-learn/scikit-learn/issues/21755 */display: inline-block !important;position: relative;}#sk-container-id-3 div.sk-text-repr-fallback {display: none;}</style><div id=\"sk-container-id-3\" class=\"sk-top-container\"><div class=\"sk-text-repr-fallback\"><pre>EasyEnsembleClassifier(random_state=42)</pre><b>In a Jupyter environment, please rerun this cell to show the HTML representation or trust the notebook. <br />On GitHub, the HTML representation is unable to render, please try loading this page with nbviewer.org.</b></div><div class=\"sk-container\" hidden><div class=\"sk-item\"><div class=\"sk-estimator sk-toggleable\"><input class=\"sk-toggleable__control sk-hidden--visually\" id=\"sk-estimator-id-6\" type=\"checkbox\" checked><label for=\"sk-estimator-id-6\" class=\"sk-toggleable__label sk-toggleable__label-arrow\">EasyEnsembleClassifier</label><div class=\"sk-toggleable__content\"><pre>EasyEnsembleClassifier(random_state=42)</pre></div></div></div></div></div>"
      ],
      "text/plain": [
       "EasyEnsembleClassifier(random_state=42)"
      ]
     },
     "execution_count": 59,
     "metadata": {},
     "output_type": "execute_result"
    }
   ],
   "source": [
    "eec.fit(X_train_scaled, y_train)"
   ]
  },
  {
   "cell_type": "code",
   "execution_count": 60,
   "metadata": {},
   "outputs": [
    {
     "name": "stdout",
     "output_type": "stream",
     "text": [
      "              precision    recall  f1-score   support\n",
      "\n",
      "           0       1.00      0.85      0.92      7238\n",
      "           1       0.04      1.00      0.08        45\n",
      "\n",
      "    accuracy                           0.85      7283\n",
      "   macro avg       0.52      0.93      0.50      7283\n",
      "weighted avg       0.99      0.85      0.91      7283\n",
      "\n",
      "Train Auc_roc: 0.9872816308986522\n",
      "Train average precision: 0.3461356032109719\n",
      "              precision    recall  f1-score   support\n",
      "\n",
      "           0       1.00      0.85      0.92      2405\n",
      "           1       0.05      0.83      0.09        23\n",
      "\n",
      "    accuracy                           0.85      2428\n",
      "   macro avg       0.52      0.84      0.51      2428\n",
      "weighted avg       0.99      0.85      0.91      2428\n",
      "\n",
      "Test auc_roc: 0.9431076561511343\n",
      "Test average precision: 0.3045116464848375\n"
     ]
    }
   ],
   "source": [
    "measure(eec)"
   ]
  },
  {
   "cell_type": "code",
   "execution_count": null,
   "metadata": {},
   "outputs": [],
   "source": []
  }
 ],
 "metadata": {
  "kernelspec": {
   "display_name": "Python 3 (ipykernel)",
   "language": "python",
   "name": "python3"
  },
  "language_info": {
   "codemirror_mode": {
    "name": "ipython",
    "version": 3
   },
   "file_extension": ".py",
   "mimetype": "text/x-python",
   "name": "python",
   "nbconvert_exporter": "python",
   "pygments_lexer": "ipython3",
   "version": "3.9.18"
  }
 },
 "nbformat": 4,
 "nbformat_minor": 4
}
