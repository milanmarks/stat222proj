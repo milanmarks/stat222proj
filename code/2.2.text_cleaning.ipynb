{
 "cells": [
  {
   "cell_type": "code",
   "execution_count": 14,
   "metadata": {},
   "outputs": [
    {
     "name": "stderr",
     "output_type": "stream",
     "text": [
      "0it [00:19, ?it/s]\n"
     ]
    }
   ],
   "source": [
    "import pandas as pd\n",
    "\n",
    "import re \n",
    "\n",
    "from tqdm import tqdm, tqdm_pandas\n",
    "tqdm.pandas()\n",
    "\n",
    "import nltk\n",
    "from nltk.corpus import stopwords\n",
    "stop_words = set(stopwords.words('english'))\n",
    "from nltk.stem.snowball import SnowballStemmer\n",
    "st = SnowballStemmer('english')"
   ]
  },
  {
   "cell_type": "code",
   "execution_count": 3,
   "metadata": {},
   "outputs": [],
   "source": [
    "data = pd.read_csv(\"../../project/data/train_test_set.csv\")"
   ]
  },
  {
   "cell_type": "code",
   "execution_count": 24,
   "metadata": {},
   "outputs": [
    {
     "name": "stderr",
     "output_type": "stream",
     "text": [
      "100%|██████████| 9421/9421 [00:01<00:00, 8361.10it/s]\n",
      "100%|██████████| 9421/9421 [00:00<00:00, 463883.66it/s]\n",
      "100%|██████████| 9421/9421 [00:02<00:00, 3339.45it/s]\n"
     ]
    }
   ],
   "source": [
    "data['item_1A'] = data['item_1A'].progress_apply(lambda x: x.split('\\n', 1)[-1])\n",
    "data['item_2'] = data['item_2'].progress_apply(lambda x: x.split('\\n', 1)[-1])\n",
    "data['item_7'] = data['item_7'].progress_apply(lambda x: x.split('\\n', 1)[-1])"
   ]
  },
  {
   "cell_type": "code",
   "execution_count": 28,
   "metadata": {},
   "outputs": [
    {
     "name": "stderr",
     "output_type": "stream",
     "text": [
      "100%|██████████| 9421/9421 [00:08<00:00, 1074.07it/s]\n",
      "100%|██████████| 9421/9421 [00:17<00:00, 546.13it/s]\n",
      "100%|██████████| 9421/9421 [00:15<00:00, 606.48it/s]\n",
      "100%|██████████| 9421/9421 [06:34<00:00, 23.89it/s]\n",
      "100%|██████████| 9421/9421 [00:00<00:00, 53533.59it/s]\n",
      "100%|██████████| 9421/9421 [00:00<00:00, 27314.44it/s]\n",
      "100%|██████████| 9421/9421 [00:00<00:00, 27163.47it/s]\n",
      "100%|██████████| 9421/9421 [00:08<00:00, 1148.34it/s]\n",
      "100%|██████████| 9421/9421 [00:03<00:00, 2406.13it/s]\n",
      "100%|██████████| 9421/9421 [00:09<00:00, 1036.22it/s]\n",
      "100%|██████████| 9421/9421 [00:08<00:00, 1104.70it/s]\n",
      "100%|██████████| 9421/9421 [03:28<00:00, 45.23it/s]\n"
     ]
    }
   ],
   "source": [
    "for col in ['item_1A', 'item_2', 'item_7']:\n",
    "\n",
    "    data[col] = data[col].progress_apply(lambda x: x.split('\\n', 1)[-1])\n",
    "    \n",
    "    # change to lower and remove spaces on either side\n",
    "    data[col] = data[col].progress_apply(lambda x: x.lower().strip())\n",
    "\n",
    "    # remove extra spaces in between\n",
    "    data[col] = data[col].progress_apply(lambda x: re.sub(' +', ' ', x))\n",
    "\n",
    "    # remove punctuation\n",
    "    data[col] = data[col].progress_apply(lambda x: re.sub('[^a-zA-Z]', ' ', x))\n",
    "\n",
    "    # remove stopwords and get the stem\n",
    "    data[col] = data[col].progress_apply(lambda x: ' '.join(st.stem(text) for text in x.split() if text not in stop_words))"
   ]
  },
  {
   "cell_type": "code",
   "execution_count": 26,
   "metadata": {},
   "outputs": [],
   "source": [
    "data['items'] = data['item_1A'] + \" \" + data[\"item_2\"] + \" \" + data[\"item_7\"]"
   ]
  },
  {
   "cell_type": "code",
   "execution_count": 34,
   "metadata": {},
   "outputs": [],
   "source": [
    "data.to_csv('../../project/data/train_test_set.csv', index=False)"
   ]
  }
 ],
 "metadata": {
  "kernelspec": {
   "display_name": "base",
   "language": "python",
   "name": "python3"
  },
  "language_info": {
   "codemirror_mode": {
    "name": "ipython",
    "version": 3
   },
   "file_extension": ".py",
   "mimetype": "text/x-python",
   "name": "python",
   "nbconvert_exporter": "python",
   "pygments_lexer": "ipython3",
   "version": "3.9.18"
  }
 },
 "nbformat": 4,
 "nbformat_minor": 2
}
